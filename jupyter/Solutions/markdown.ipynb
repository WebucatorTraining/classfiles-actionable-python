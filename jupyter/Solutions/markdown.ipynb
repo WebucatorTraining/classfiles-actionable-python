{
 "cells": [
  {
   "cell_type": "markdown",
   "metadata": {},
   "source": [
    "<h1 style=\"font-size:3em\">Markdown Demonstration</h1>\n",
    "<p style=\"color:red\">DOUBLE-CLICK ON ANY CELL TO SEE HOW IT WAS CODED</p>"
   ]
  },
  {
   "cell_type": "markdown",
   "metadata": {},
   "source": [
    "# Heading 1\n",
    "Headings are created with hash/pound signs (#). One hash for a heading 1, two hashes for heading 2, etc... up to heading 6.\n",
    "\n",
    "Subsequent paragraphs must be separated by a blank line \n",
    "## Heading 2\n",
    "Paragraph text\n",
    "### Heading 3\n",
    "Paragraph text\n",
    "#### Heading 4\n",
    "Paragraph text\n",
    "##### Heading 5\n",
    "Paragraph text\n",
    "###### Heading 6\n",
    "Paragraph text"
   ]
  },
  {
   "cell_type": "markdown",
   "metadata": {},
   "source": [
    "# Unordered (Bulleted) List\n",
    "**Unordered lists are created with dashes (-) followed by a single space.**\n",
    "\n",
    "Nested items should be indented two spaces:\n",
    "\n",
    "- Item\n",
    "- Item\n",
    "  - Nested Item\n",
    "  - Nested Item\n",
    "    - Further Nested Item\n",
    "  - Nested Item\n",
    "- Item\n",
    "\n",
    "You can also create unordered lists with asterisks (*):\n",
    "\n",
    "* Item\n",
    "* Item\n",
    "  * Nested Item\n",
    "  * Nested Item\n",
    "    * Further Nested Item\n",
    "  * Nested Item\n",
    "* Item\n",
    "\n",
    "And if that's not enough choices for you, you can also use plus signs (+):\n",
    "+ Item\n",
    "+ Item\n",
    "  + Nested Item\n",
    "  + Nested Item\n",
    "    + Further Nested Item\n",
    "  + Nested Item\n",
    "+ Item"
   ]
  },
  {
   "cell_type": "markdown",
   "metadata": {},
   "source": [
    "# Ordered (Numbered) List\n",
    "**Numbered lists are created with numbers followed by a period and a space.**\n",
    "\n",
    "The actual number you use doesn't matter, so we suggest always using 1 so you don't have to worry about order.\n",
    "\n",
    "1. Item\n",
    "1. Item\n",
    "  1. Nested Item (indented two spaces)\n",
    "  1. Nested Item\n",
    "    1. Further Nested Item (indented two additional spaces)\n",
    "  1. Nested Item\n",
    "1. Item"
   ]
  },
  {
   "cell_type": "markdown",
   "metadata": {},
   "source": [
    "# Inline Formatting\n",
    "- **enclose bold text in double asterisks**\n",
    "  - __You can also use double underscores__\n",
    "- *enclose italicized text in single asterisks*\n",
    "  - _You can also use single underscores_\n",
    "- ~~enclose text in double tildes to strike through it~~\n",
    "- Enclose `inline code` in single back ticks"
   ]
  },
  {
   "cell_type": "markdown",
   "metadata": {},
   "source": [
    "# Blockquotes\n",
    "Blockquotes are created by placing a greater than sign (>) at the beginning of each line. To force a line break between two lines, include a blank line between them.\n",
    "> **Bridgekeeper:** Stop. Who would cross the Bridge of Death must answer me these questions three, ere the other side he see.\n",
    "\n",
    "> **Sir Codes-a-lot:** Ask me the questions, bridgekeeper. I am not afraid.\n",
    "\n",
    "> **Bridgekeeper:** What is the 10th digit after the decimal point in $\\pi$? <sup>[1](#LaTeX)</sup>\n",
    "\n",
    "> **Sir Codes-a-lot:** One moment.\n",
    "\n",
    "Sir Codes-a-lot writes the following Python code (in an new Code cell):"
   ]
  },
  {
   "cell_type": "code",
   "execution_count": null,
   "metadata": {},
   "outputs": [],
   "source": [
    "import math\n",
    "str(math.pi).split('.')[1][9]"
   ]
  },
  {
   "cell_type": "markdown",
   "metadata": {},
   "source": [
    "> **Sir Codes-a-lot:** Five.\n",
    "\n",
    "> **Bridgekeeper:** Go on. Off you go."
   ]
  },
  {
   "cell_type": "markdown",
   "metadata": {},
   "source": [
    "# Code Blocks\n",
    "## Python\n",
    "**Method 1**: Wrap block in triple quotes to create a code block.\n",
    "\n",
    "```\n",
    "fruit = ['apple', 'orange', 'banana']\n",
    "for i, f in enumerate(fruit, 1):\n",
    "    print(i, '. ', f, sep='')\n",
    "```\n",
    "\n",
    "## JavaScript\n",
    "**Method 2**: Indent block four spaces to create a code block.\n",
    "\n",
    "    const fruit = ['apple', 'orange', 'banana'];\n",
    "    for (const fruit of fruits) {\n",
    "        alert(fruit);\n",
    "    }"
   ]
  },
  {
   "cell_type": "markdown",
   "metadata": {},
   "source": [
    "# Links\n",
    "* [Webucator](https://www.webucator.com)\n",
    "* [Webucator Python Courses](https://www.webucator.com/programming-training/python-training.cfm \"Python Training\") - This one includes a title. Hover over the link to see the title appear.\n",
    "\n",
    "## Links to Your Jupyter Notebooks\n",
    "* [My First Notebook](/notebooks/My%20First%20Notebook.ipynb)\n",
    "\n",
    "## Links to Sections within a Jupyter Notebook\n",
    "* [Blockquotes](#Blockquotes)\n",
    "* [Heading 1](#Heading-1)"
   ]
  },
  {
   "cell_type": "markdown",
   "metadata": {},
   "source": [
    "# Tables\n",
    "Create tables using pipes (|) to denote cell boundaries.\n",
    "\n",
    "|Header|Header|\n",
    "|------|------|\n",
    "|Data|Data|\n",
    "|Data|Data|\n",
    "|Data|Data|\n",
    "|Data|Data|"
   ]
  },
  {
   "cell_type": "markdown",
   "metadata": {},
   "source": [
    "# Images\n",
    "\n",
    "### Jupyter Logo:\n",
    "![Alt Text](/static/base/images/logo.png)\n",
    "\n",
    "### Webucator Logo:\n",
    "![Webucator Logo](https://images.webucator.com/logos/webucator.png)"
   ]
  },
  {
   "cell_type": "markdown",
   "metadata": {},
   "source": [
    "# HTML Code\n",
    "In the very [first cell of this notebook](#Markdown-Demonstration), there is some HTML code. We did that to get access to the `style` attribute, which makes it possible to add styles that are not available in Markdown (like <span style=\"color:#ff0;background-color:#f60\">colors</span> and <span style=\"font-size:24pt\">font sizes</span>).\n",
    "\n",
    "You can add as much or as little HTML code as you like to your cells, but as a rule, you should stick to Markdown when you can."
   ]
  },
  {
   "cell_type": "markdown",
   "metadata": {},
   "source": [
    "# LaTeX\n",
    "LaTeX is a typesetting markup language for producing neatly formatted mathematical and scientific expressions.\n",
    "\n",
    "Enclose inline LaTeX in single dollar signs.\n",
    "\n",
    "Enclose blocks of LaTeX in double dollar signs.\n",
    "\n",
    "LaTeX keywords are preceded with a backslash (\\\\).\n",
    "\n",
    "## Fractions\n",
    "$\\frac{2}{3}$\n",
    "\n",
    "$\\frac{-2}{3}$\n",
    "\n",
    "## Quadratic Formula\n",
    "$x=\\frac{-b\\pm\\sqrt{b^2-4ac}}{2a}$\n",
    "\n",
    "## Greek Letters\n",
    "|Letter|Capital|Lowercase|\n",
    "|-------|-------|---------|\n",
    "|Alpha||$\\alpha$|\n",
    "|Beta||$\\beta$|\n",
    "|Gamma|$\\Gamma$|$\\gamma$|\n",
    "|Delta|$\\Delta$|$\\delta$|\n",
    "|Epsilon||$\\epsilon$|\n",
    "|Zeta||$\\zeta$|\n",
    "|Eta||$\\eta$|\n",
    "|Theta|$\\Theta$|$\\theta$|\n",
    "|Iota||$\\iota$|\n",
    "|Kappa||$\\kappa$|\n",
    "|Lambda|$\\Lambda$|$\\lambda$|\n",
    "|Mu||$\\mu$|\n",
    "|Nu||$\\nu$|\n",
    "|Xi|$\\Xi$|$\\xi$|\n",
    "|Omicron||$\\omicron$|\n",
    "|Pi|$\\Pi$|$\\pi$|\n",
    "|Rho||$\\rho$|\n",
    "|Sigma|$\\Sigma$|$\\sigma$|\n",
    "|Tau||$\\tau$|\n",
    "|Upsilon|$\\Upsilon$|$\\upsilon$|\n",
    "|Phi|$\\Phi$|$\\phi$|\n",
    "|Chi||$\\chi$|\n",
    "|Psi|$\\Psi$|$\\psi$|\n",
    "|Omega|$\\Omega$|$\\omega$|\n",
    "\n",
    "For more on LaTeX, visit [The LaTex Project](https://www.latex-project.org/)."
   ]
  }
 ],
 "metadata": {
  "kernelspec": {
   "display_name": "Python 3",
   "language": "python",
   "name": "python3"
  },
  "language_info": {
   "codemirror_mode": {
    "name": "ipython",
    "version": 3
   },
   "file_extension": ".py",
   "mimetype": "text/x-python",
   "name": "python",
   "nbconvert_exporter": "python",
   "pygments_lexer": "ipython3",
   "version": "3.8.2"
  }
 },
 "nbformat": 4,
 "nbformat_minor": 4
}
