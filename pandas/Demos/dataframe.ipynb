{
 "cells": [
  {
   "cell_type": "markdown",
   "metadata": {},
   "source": [
    "# pandas DataFrame"
   ]
  },
  {
   "cell_type": "markdown",
   "metadata": {},
   "source": [
    "## Setup"
   ]
  },
  {
   "cell_type": "code",
   "execution_count": 1,
   "metadata": {},
   "outputs": [],
   "source": [
    "import numpy as np\n",
    "import pandas as pd\n",
    "\n",
    "pd.set_option('display.max_columns', 10)\n",
    "pd.set_option('display.max_rows', 10)"
   ]
  },
  {
   "cell_type": "markdown",
   "metadata": {},
   "source": [
    "### Create Simple DataFrame"
   ]
  },
  {
   "cell_type": "code",
   "execution_count": 2,
   "metadata": {},
   "outputs": [
    {
     "data": {
      "text/html": [
       "<div>\n",
       "<style scoped>\n",
       "    .dataframe tbody tr th:only-of-type {\n",
       "        vertical-align: middle;\n",
       "    }\n",
       "\n",
       "    .dataframe tbody tr th {\n",
       "        vertical-align: top;\n",
       "    }\n",
       "\n",
       "    .dataframe thead th {\n",
       "        text-align: right;\n",
       "    }\n",
       "</style>\n",
       "<table border=\"1\" class=\"dataframe\">\n",
       "  <thead>\n",
       "    <tr style=\"text-align: right;\">\n",
       "      <th></th>\n",
       "      <th>0</th>\n",
       "      <th>1</th>\n",
       "      <th>2</th>\n",
       "    </tr>\n",
       "  </thead>\n",
       "  <tbody>\n",
       "    <tr>\n",
       "      <th>0</th>\n",
       "      <td>1</td>\n",
       "      <td>2</td>\n",
       "      <td>3</td>\n",
       "    </tr>\n",
       "    <tr>\n",
       "      <th>1</th>\n",
       "      <td>4</td>\n",
       "      <td>5</td>\n",
       "      <td>6</td>\n",
       "    </tr>\n",
       "    <tr>\n",
       "      <th>2</th>\n",
       "      <td>7</td>\n",
       "      <td>8</td>\n",
       "      <td>9</td>\n",
       "    </tr>\n",
       "  </tbody>\n",
       "</table>\n",
       "</div>"
      ],
      "text/plain": [
       "   0  1  2\n",
       "0  1  2  3\n",
       "1  4  5  6\n",
       "2  7  8  9"
      ]
     },
     "execution_count": 2,
     "metadata": {},
     "output_type": "execute_result"
    }
   ],
   "source": [
    "mda = np.array([\n",
    "        [1, 2, 3],\n",
    "        [4, 5, 6],\n",
    "        [7, 8, 9]\n",
    "    ])\n",
    "df1 = pd.DataFrame(mda)\n",
    "df1"
   ]
  },
  {
   "cell_type": "code",
   "execution_count": 3,
   "metadata": {},
   "outputs": [
    {
     "data": {
      "text/html": [
       "<div>\n",
       "<style scoped>\n",
       "    .dataframe tbody tr th:only-of-type {\n",
       "        vertical-align: middle;\n",
       "    }\n",
       "\n",
       "    .dataframe tbody tr th {\n",
       "        vertical-align: top;\n",
       "    }\n",
       "\n",
       "    .dataframe thead th {\n",
       "        text-align: right;\n",
       "    }\n",
       "</style>\n",
       "<table border=\"1\" class=\"dataframe\">\n",
       "  <thead>\n",
       "    <tr style=\"text-align: right;\">\n",
       "      <th></th>\n",
       "      <th>A</th>\n",
       "      <th>B</th>\n",
       "      <th>C</th>\n",
       "    </tr>\n",
       "  </thead>\n",
       "  <tbody>\n",
       "    <tr>\n",
       "      <th>1</th>\n",
       "      <td>1</td>\n",
       "      <td>2</td>\n",
       "      <td>3</td>\n",
       "    </tr>\n",
       "    <tr>\n",
       "      <th>2</th>\n",
       "      <td>4</td>\n",
       "      <td>5</td>\n",
       "      <td>6</td>\n",
       "    </tr>\n",
       "    <tr>\n",
       "      <th>3</th>\n",
       "      <td>7</td>\n",
       "      <td>8</td>\n",
       "      <td>9</td>\n",
       "    </tr>\n",
       "  </tbody>\n",
       "</table>\n",
       "</div>"
      ],
      "text/plain": [
       "   A  B  C\n",
       "1  1  2  3\n",
       "2  4  5  6\n",
       "3  7  8  9"
      ]
     },
     "execution_count": 3,
     "metadata": {},
     "output_type": "execute_result"
    }
   ],
   "source": [
    "df1.columns = ['A', 'B', 'C']\n",
    "df1.index = np.arange(1, len(df1) + 1)\n",
    "df1"
   ]
  },
  {
   "cell_type": "code",
   "execution_count": 4,
   "metadata": {},
   "outputs": [
    {
     "data": {
      "text/html": [
       "<div>\n",
       "<style scoped>\n",
       "    .dataframe tbody tr th:only-of-type {\n",
       "        vertical-align: middle;\n",
       "    }\n",
       "\n",
       "    .dataframe tbody tr th {\n",
       "        vertical-align: top;\n",
       "    }\n",
       "\n",
       "    .dataframe thead th {\n",
       "        text-align: right;\n",
       "    }\n",
       "</style>\n",
       "<table border=\"1\" class=\"dataframe\">\n",
       "  <thead>\n",
       "    <tr style=\"text-align: right;\">\n",
       "      <th></th>\n",
       "      <th>A</th>\n",
       "      <th>B</th>\n",
       "      <th>C</th>\n",
       "    </tr>\n",
       "  </thead>\n",
       "  <tbody>\n",
       "    <tr>\n",
       "      <th>1</th>\n",
       "      <td>1</td>\n",
       "      <td>2</td>\n",
       "      <td>3</td>\n",
       "    </tr>\n",
       "    <tr>\n",
       "      <th>2</th>\n",
       "      <td>4</td>\n",
       "      <td>5</td>\n",
       "      <td>6</td>\n",
       "    </tr>\n",
       "    <tr>\n",
       "      <th>3</th>\n",
       "      <td>7</td>\n",
       "      <td>8</td>\n",
       "      <td>9</td>\n",
       "    </tr>\n",
       "  </tbody>\n",
       "</table>\n",
       "</div>"
      ],
      "text/plain": [
       "   A  B  C\n",
       "1  1  2  3\n",
       "2  4  5  6\n",
       "3  7  8  9"
      ]
     },
     "execution_count": 4,
     "metadata": {},
     "output_type": "execute_result"
    }
   ],
   "source": [
    "df2 = pd.DataFrame(mda, columns=['A', 'B', 'C'], index=np.arange(1, len(mda) + 1))\n",
    "df2"
   ]
  },
  {
   "cell_type": "markdown",
   "metadata": {},
   "source": [
    "### Create DataFrame using Series as Rows"
   ]
  },
  {
   "cell_type": "code",
   "execution_count": 5,
   "metadata": {},
   "outputs": [
    {
     "data": {
      "text/html": [
       "<div>\n",
       "<style scoped>\n",
       "    .dataframe tbody tr th:only-of-type {\n",
       "        vertical-align: middle;\n",
       "    }\n",
       "\n",
       "    .dataframe tbody tr th {\n",
       "        vertical-align: top;\n",
       "    }\n",
       "\n",
       "    .dataframe thead th {\n",
       "        text-align: right;\n",
       "    }\n",
       "</style>\n",
       "<table border=\"1\" class=\"dataframe\">\n",
       "  <thead>\n",
       "    <tr style=\"text-align: right;\">\n",
       "      <th></th>\n",
       "      <th>A</th>\n",
       "      <th>B</th>\n",
       "      <th>C</th>\n",
       "      <th>D</th>\n",
       "    </tr>\n",
       "  </thead>\n",
       "  <tbody>\n",
       "    <tr>\n",
       "      <th>0</th>\n",
       "      <td>Adam</td>\n",
       "      <td>Bob</td>\n",
       "      <td>Carl</td>\n",
       "      <td>Dave</td>\n",
       "    </tr>\n",
       "    <tr>\n",
       "      <th>1</th>\n",
       "      <td>Africa</td>\n",
       "      <td>Berlin</td>\n",
       "      <td>Canada</td>\n",
       "      <td>NaN</td>\n",
       "    </tr>\n",
       "    <tr>\n",
       "      <th>2</th>\n",
       "      <td>Apple</td>\n",
       "      <td>Baseball bat</td>\n",
       "      <td>Car</td>\n",
       "      <td>NaN</td>\n",
       "    </tr>\n",
       "  </tbody>\n",
       "</table>\n",
       "</div>"
      ],
      "text/plain": [
       "        A             B       C     D\n",
       "0    Adam           Bob    Carl  Dave\n",
       "1  Africa        Berlin  Canada   NaN\n",
       "2   Apple  Baseball bat     Car   NaN"
      ]
     },
     "execution_count": 5,
     "metadata": {},
     "output_type": "execute_result"
    }
   ],
   "source": [
    "people = pd.Series(['Adam', 'Bob', 'Carl', 'Dave'], index=['A', 'B', 'C', 'D'])\n",
    "places = pd.Series(['Africa', 'Berlin', 'Canada'], index=['A', 'B', 'C'])\n",
    "things = pd.Series(['Apple', 'Baseball bat', 'Car'], index=['A', 'B', 'C'])\n",
    "\n",
    "df3 = pd.DataFrame([people, places, things])\n",
    "df3"
   ]
  },
  {
   "cell_type": "code",
   "execution_count": 6,
   "metadata": {},
   "outputs": [
    {
     "data": {
      "text/html": [
       "<div>\n",
       "<style scoped>\n",
       "    .dataframe tbody tr th:only-of-type {\n",
       "        vertical-align: middle;\n",
       "    }\n",
       "\n",
       "    .dataframe tbody tr th {\n",
       "        vertical-align: top;\n",
       "    }\n",
       "\n",
       "    .dataframe thead th {\n",
       "        text-align: right;\n",
       "    }\n",
       "</style>\n",
       "<table border=\"1\" class=\"dataframe\">\n",
       "  <thead>\n",
       "    <tr style=\"text-align: right;\">\n",
       "      <th></th>\n",
       "      <th>A</th>\n",
       "      <th>B</th>\n",
       "      <th>C</th>\n",
       "      <th>D</th>\n",
       "    </tr>\n",
       "  </thead>\n",
       "  <tbody>\n",
       "    <tr>\n",
       "      <th>People</th>\n",
       "      <td>Adam</td>\n",
       "      <td>Bob</td>\n",
       "      <td>Carl</td>\n",
       "      <td>Dave</td>\n",
       "    </tr>\n",
       "    <tr>\n",
       "      <th>Place</th>\n",
       "      <td>Africa</td>\n",
       "      <td>Berlin</td>\n",
       "      <td>Canada</td>\n",
       "      <td>NaN</td>\n",
       "    </tr>\n",
       "    <tr>\n",
       "      <th>Thing</th>\n",
       "      <td>Apple</td>\n",
       "      <td>Baseball bat</td>\n",
       "      <td>Car</td>\n",
       "      <td>NaN</td>\n",
       "    </tr>\n",
       "  </tbody>\n",
       "</table>\n",
       "</div>"
      ],
      "text/plain": [
       "             A             B       C     D\n",
       "People    Adam           Bob    Carl  Dave\n",
       "Place   Africa        Berlin  Canada   NaN\n",
       "Thing    Apple  Baseball bat     Car   NaN"
      ]
     },
     "execution_count": 6,
     "metadata": {},
     "output_type": "execute_result"
    }
   ],
   "source": [
    "df3.index = ['People', 'Place', 'Thing']\n",
    "df3"
   ]
  },
  {
   "cell_type": "code",
   "execution_count": 7,
   "metadata": {},
   "outputs": [
    {
     "data": {
      "text/html": [
       "<div>\n",
       "<style scoped>\n",
       "    .dataframe tbody tr th:only-of-type {\n",
       "        vertical-align: middle;\n",
       "    }\n",
       "\n",
       "    .dataframe tbody tr th {\n",
       "        vertical-align: top;\n",
       "    }\n",
       "\n",
       "    .dataframe thead th {\n",
       "        text-align: right;\n",
       "    }\n",
       "</style>\n",
       "<table border=\"1\" class=\"dataframe\">\n",
       "  <thead>\n",
       "    <tr style=\"text-align: right;\">\n",
       "      <th></th>\n",
       "      <th>A</th>\n",
       "      <th>B</th>\n",
       "      <th>D</th>\n",
       "    </tr>\n",
       "  </thead>\n",
       "  <tbody>\n",
       "    <tr>\n",
       "      <th>People</th>\n",
       "      <td>Adam</td>\n",
       "      <td>Bob</td>\n",
       "      <td>Dave</td>\n",
       "    </tr>\n",
       "    <tr>\n",
       "      <th>Place</th>\n",
       "      <td>Africa</td>\n",
       "      <td>Berlin</td>\n",
       "      <td>NaN</td>\n",
       "    </tr>\n",
       "    <tr>\n",
       "      <th>Thing</th>\n",
       "      <td>Apple</td>\n",
       "      <td>Baseball bat</td>\n",
       "      <td>NaN</td>\n",
       "    </tr>\n",
       "  </tbody>\n",
       "</table>\n",
       "</div>"
      ],
      "text/plain": [
       "             A             B     D\n",
       "People    Adam           Bob  Dave\n",
       "Place   Africa        Berlin   NaN\n",
       "Thing    Apple  Baseball bat   NaN"
      ]
     },
     "execution_count": 7,
     "metadata": {},
     "output_type": "execute_result"
    }
   ],
   "source": [
    "df4 = pd.DataFrame(\n",
    "    [people, places, things],\n",
    "    index = ['People', 'Place', 'Thing'],\n",
    "    columns = ['A', 'B', 'D']\n",
    ")\n",
    "df4"
   ]
  },
  {
   "cell_type": "markdown",
   "metadata": {},
   "source": [
    "### Create Series"
   ]
  },
  {
   "cell_type": "code",
   "execution_count": 8,
   "metadata": {},
   "outputs": [],
   "source": [
    "# Create NumPy arrays with random grades.\n",
    "rng = np.random.default_rng(seed=42)\n",
    "ar1 = rng.choice(['A', 'B', 'C', 'D', 'F'], 100, p=[.2, .4, .3, .08, .02])\n",
    "ar2 = rng.choice(['A', 'B', 'C', 'D', 'F'], 50,  p=[.3, .4, .2, .1, 0])\n",
    "ar3 = rng.choice(['a', 'b', 'c', 'd', 'f'], 200,  p=[.15, .45, .25, .13, .02])\n",
    "\n",
    "# Create pandas Series from arrays.\n",
    "s1 = pd.Series(ar1)\n",
    "s2 = pd.Series(ar2)\n",
    "s3 = pd.Series(ar3)"
   ]
  },
  {
   "cell_type": "markdown",
   "metadata": {},
   "source": [
    "### Create DataFrame from Dictionary"
   ]
  },
  {
   "cell_type": "code",
   "execution_count": 9,
   "metadata": {},
   "outputs": [
    {
     "data": {
      "text/html": [
       "<div>\n",
       "<style scoped>\n",
       "    .dataframe tbody tr th:only-of-type {\n",
       "        vertical-align: middle;\n",
       "    }\n",
       "\n",
       "    .dataframe tbody tr th {\n",
       "        vertical-align: top;\n",
       "    }\n",
       "\n",
       "    .dataframe thead th {\n",
       "        text-align: right;\n",
       "    }\n",
       "</style>\n",
       "<table border=\"1\" class=\"dataframe\">\n",
       "  <thead>\n",
       "    <tr style=\"text-align: right;\">\n",
       "      <th></th>\n",
       "      <th>grades1</th>\n",
       "      <th>grades2</th>\n",
       "      <th>grades3</th>\n",
       "    </tr>\n",
       "  </thead>\n",
       "  <tbody>\n",
       "    <tr>\n",
       "      <th>0</th>\n",
       "      <td>C</td>\n",
       "      <td>D</td>\n",
       "      <td>c</td>\n",
       "    </tr>\n",
       "    <tr>\n",
       "      <th>1</th>\n",
       "      <td>B</td>\n",
       "      <td>B</td>\n",
       "      <td>d</td>\n",
       "    </tr>\n",
       "    <tr>\n",
       "      <th>2</th>\n",
       "      <td>C</td>\n",
       "      <td>A</td>\n",
       "      <td>a</td>\n",
       "    </tr>\n",
       "    <tr>\n",
       "      <th>3</th>\n",
       "      <td>C</td>\n",
       "      <td>D</td>\n",
       "      <td>b</td>\n",
       "    </tr>\n",
       "    <tr>\n",
       "      <th>4</th>\n",
       "      <td>A</td>\n",
       "      <td>C</td>\n",
       "      <td>a</td>\n",
       "    </tr>\n",
       "    <tr>\n",
       "      <th>...</th>\n",
       "      <td>...</td>\n",
       "      <td>...</td>\n",
       "      <td>...</td>\n",
       "    </tr>\n",
       "    <tr>\n",
       "      <th>195</th>\n",
       "      <td>NaN</td>\n",
       "      <td>NaN</td>\n",
       "      <td>c</td>\n",
       "    </tr>\n",
       "    <tr>\n",
       "      <th>196</th>\n",
       "      <td>NaN</td>\n",
       "      <td>NaN</td>\n",
       "      <td>d</td>\n",
       "    </tr>\n",
       "    <tr>\n",
       "      <th>197</th>\n",
       "      <td>NaN</td>\n",
       "      <td>NaN</td>\n",
       "      <td>b</td>\n",
       "    </tr>\n",
       "    <tr>\n",
       "      <th>198</th>\n",
       "      <td>NaN</td>\n",
       "      <td>NaN</td>\n",
       "      <td>b</td>\n",
       "    </tr>\n",
       "    <tr>\n",
       "      <th>199</th>\n",
       "      <td>NaN</td>\n",
       "      <td>NaN</td>\n",
       "      <td>a</td>\n",
       "    </tr>\n",
       "  </tbody>\n",
       "</table>\n",
       "<p>200 rows × 3 columns</p>\n",
       "</div>"
      ],
      "text/plain": [
       "    grades1 grades2 grades3\n",
       "0         C       D       c\n",
       "1         B       B       d\n",
       "2         C       A       a\n",
       "3         C       D       b\n",
       "4         A       C       a\n",
       "..      ...     ...     ...\n",
       "195     NaN     NaN       c\n",
       "196     NaN     NaN       d\n",
       "197     NaN     NaN       b\n",
       "198     NaN     NaN       b\n",
       "199     NaN     NaN       a\n",
       "\n",
       "[200 rows x 3 columns]"
      ]
     },
     "execution_count": 9,
     "metadata": {},
     "output_type": "execute_result"
    }
   ],
   "source": [
    "d = {\n",
    "    'grades1': s1,\n",
    "    'grades2': s2,\n",
    "    'grades3': s3\n",
    "}\n",
    "\n",
    "df1_grades = pd.DataFrame(d)\n",
    "df1_grades"
   ]
  },
  {
   "cell_type": "markdown",
   "metadata": {},
   "source": [
    "### Create DataFrame from CSV"
   ]
  },
  {
   "cell_type": "code",
   "execution_count": 10,
   "metadata": {},
   "outputs": [
    {
     "data": {
      "text/html": [
       "<div>\n",
       "<style scoped>\n",
       "    .dataframe tbody tr th:only-of-type {\n",
       "        vertical-align: middle;\n",
       "    }\n",
       "\n",
       "    .dataframe tbody tr th {\n",
       "        vertical-align: top;\n",
       "    }\n",
       "\n",
       "    .dataframe thead th {\n",
       "        text-align: right;\n",
       "    }\n",
       "</style>\n",
       "<table border=\"1\" class=\"dataframe\">\n",
       "  <thead>\n",
       "    <tr style=\"text-align: right;\">\n",
       "      <th></th>\n",
       "      <th>SEX</th>\n",
       "      <th>AGE</th>\n",
       "      <th>POPESTIMATE2018</th>\n",
       "      <th>POPESTIMATE2019</th>\n",
       "    </tr>\n",
       "  </thead>\n",
       "  <tbody>\n",
       "    <tr>\n",
       "      <th>0</th>\n",
       "      <td>0</td>\n",
       "      <td>0</td>\n",
       "      <td>3815343</td>\n",
       "      <td>3783052</td>\n",
       "    </tr>\n",
       "    <tr>\n",
       "      <th>1</th>\n",
       "      <td>0</td>\n",
       "      <td>1</td>\n",
       "      <td>3908830</td>\n",
       "      <td>3829599</td>\n",
       "    </tr>\n",
       "    <tr>\n",
       "      <th>2</th>\n",
       "      <td>0</td>\n",
       "      <td>2</td>\n",
       "      <td>3987032</td>\n",
       "      <td>3922044</td>\n",
       "    </tr>\n",
       "    <tr>\n",
       "      <th>3</th>\n",
       "      <td>0</td>\n",
       "      <td>3</td>\n",
       "      <td>4033038</td>\n",
       "      <td>3998665</td>\n",
       "    </tr>\n",
       "    <tr>\n",
       "      <th>4</th>\n",
       "      <td>0</td>\n",
       "      <td>4</td>\n",
       "      <td>4018719</td>\n",
       "      <td>4043323</td>\n",
       "    </tr>\n",
       "    <tr>\n",
       "      <th>...</th>\n",
       "      <td>...</td>\n",
       "      <td>...</td>\n",
       "      <td>...</td>\n",
       "      <td>...</td>\n",
       "    </tr>\n",
       "    <tr>\n",
       "      <th>298</th>\n",
       "      <td>2</td>\n",
       "      <td>96</td>\n",
       "      <td>108573</td>\n",
       "      <td>111417</td>\n",
       "    </tr>\n",
       "    <tr>\n",
       "      <th>299</th>\n",
       "      <td>2</td>\n",
       "      <td>97</td>\n",
       "      <td>82100</td>\n",
       "      <td>84358</td>\n",
       "    </tr>\n",
       "    <tr>\n",
       "      <th>300</th>\n",
       "      <td>2</td>\n",
       "      <td>98</td>\n",
       "      <td>57593</td>\n",
       "      <td>62607</td>\n",
       "    </tr>\n",
       "    <tr>\n",
       "      <th>301</th>\n",
       "      <td>2</td>\n",
       "      <td>99</td>\n",
       "      <td>39576</td>\n",
       "      <td>42528</td>\n",
       "    </tr>\n",
       "    <tr>\n",
       "      <th>302</th>\n",
       "      <td>2</td>\n",
       "      <td>100</td>\n",
       "      <td>72153</td>\n",
       "      <td>76850</td>\n",
       "    </tr>\n",
       "  </tbody>\n",
       "</table>\n",
       "<p>303 rows × 4 columns</p>\n",
       "</div>"
      ],
      "text/plain": [
       "     SEX  AGE  POPESTIMATE2018  POPESTIMATE2019\n",
       "0      0    0          3815343          3783052\n",
       "1      0    1          3908830          3829599\n",
       "2      0    2          3987032          3922044\n",
       "3      0    3          4033038          3998665\n",
       "4      0    4          4018719          4043323\n",
       "..   ...  ...              ...              ...\n",
       "298    2   96           108573           111417\n",
       "299    2   97            82100            84358\n",
       "300    2   98            57593            62607\n",
       "301    2   99            39576            42528\n",
       "302    2  100            72153            76850\n",
       "\n",
       "[303 rows x 4 columns]"
      ]
     },
     "execution_count": 10,
     "metadata": {},
     "output_type": "execute_result"
    }
   ],
   "source": [
    "csv = '../csvs/nc-est2019-agesex-res.csv'\n",
    "pops = pd.read_csv(csv, usecols=[0, 1, 10, 11])\n",
    "pops"
   ]
  },
  {
   "cell_type": "markdown",
   "metadata": {},
   "source": [
    "### Column Names and Row index"
   ]
  },
  {
   "cell_type": "code",
   "execution_count": 11,
   "metadata": {},
   "outputs": [
    {
     "data": {
      "text/plain": [
       "RangeIndex(start=0, stop=303, step=1)"
      ]
     },
     "execution_count": 11,
     "metadata": {},
     "output_type": "execute_result"
    }
   ],
   "source": [
    "pops.index"
   ]
  },
  {
   "cell_type": "code",
   "execution_count": 12,
   "metadata": {},
   "outputs": [
    {
     "data": {
      "text/plain": [
       "Index(['SEX', 'AGE', 'POPESTIMATE2018', 'POPESTIMATE2019'], dtype='object')"
      ]
     },
     "execution_count": 12,
     "metadata": {},
     "output_type": "execute_result"
    }
   ],
   "source": [
    "pops.columns"
   ]
  },
  {
   "cell_type": "markdown",
   "metadata": {},
   "source": [
    "### Number of Columns and Rows"
   ]
  },
  {
   "cell_type": "code",
   "execution_count": 13,
   "metadata": {},
   "outputs": [
    {
     "data": {
      "text/plain": [
       "(303, 4)"
      ]
     },
     "execution_count": 13,
     "metadata": {},
     "output_type": "execute_result"
    }
   ],
   "source": [
    "num_rows = len(pops)\n",
    "num_cols = len(pops.columns)\n",
    "num_rows, num_cols"
   ]
  },
  {
   "cell_type": "markdown",
   "metadata": {},
   "source": [
    "### Shape"
   ]
  },
  {
   "cell_type": "code",
   "execution_count": 14,
   "metadata": {},
   "outputs": [
    {
     "data": {
      "text/plain": [
       "(303, 4)"
      ]
     },
     "execution_count": 14,
     "metadata": {},
     "output_type": "execute_result"
    }
   ],
   "source": [
    "pops.shape"
   ]
  },
  {
   "cell_type": "markdown",
   "metadata": {},
   "source": [
    "### head() and tail()"
   ]
  },
  {
   "cell_type": "code",
   "execution_count": 15,
   "metadata": {},
   "outputs": [
    {
     "data": {
      "text/html": [
       "<div>\n",
       "<style scoped>\n",
       "    .dataframe tbody tr th:only-of-type {\n",
       "        vertical-align: middle;\n",
       "    }\n",
       "\n",
       "    .dataframe tbody tr th {\n",
       "        vertical-align: top;\n",
       "    }\n",
       "\n",
       "    .dataframe thead th {\n",
       "        text-align: right;\n",
       "    }\n",
       "</style>\n",
       "<table border=\"1\" class=\"dataframe\">\n",
       "  <thead>\n",
       "    <tr style=\"text-align: right;\">\n",
       "      <th></th>\n",
       "      <th>SEX</th>\n",
       "      <th>AGE</th>\n",
       "      <th>POPESTIMATE2018</th>\n",
       "      <th>POPESTIMATE2019</th>\n",
       "    </tr>\n",
       "  </thead>\n",
       "  <tbody>\n",
       "    <tr>\n",
       "      <th>0</th>\n",
       "      <td>0</td>\n",
       "      <td>0</td>\n",
       "      <td>3815343</td>\n",
       "      <td>3783052</td>\n",
       "    </tr>\n",
       "    <tr>\n",
       "      <th>1</th>\n",
       "      <td>0</td>\n",
       "      <td>1</td>\n",
       "      <td>3908830</td>\n",
       "      <td>3829599</td>\n",
       "    </tr>\n",
       "    <tr>\n",
       "      <th>2</th>\n",
       "      <td>0</td>\n",
       "      <td>2</td>\n",
       "      <td>3987032</td>\n",
       "      <td>3922044</td>\n",
       "    </tr>\n",
       "    <tr>\n",
       "      <th>3</th>\n",
       "      <td>0</td>\n",
       "      <td>3</td>\n",
       "      <td>4033038</td>\n",
       "      <td>3998665</td>\n",
       "    </tr>\n",
       "    <tr>\n",
       "      <th>4</th>\n",
       "      <td>0</td>\n",
       "      <td>4</td>\n",
       "      <td>4018719</td>\n",
       "      <td>4043323</td>\n",
       "    </tr>\n",
       "  </tbody>\n",
       "</table>\n",
       "</div>"
      ],
      "text/plain": [
       "   SEX  AGE  POPESTIMATE2018  POPESTIMATE2019\n",
       "0    0    0          3815343          3783052\n",
       "1    0    1          3908830          3829599\n",
       "2    0    2          3987032          3922044\n",
       "3    0    3          4033038          3998665\n",
       "4    0    4          4018719          4043323"
      ]
     },
     "execution_count": 15,
     "metadata": {},
     "output_type": "execute_result"
    }
   ],
   "source": [
    "pops.head()"
   ]
  },
  {
   "cell_type": "code",
   "execution_count": 16,
   "metadata": {},
   "outputs": [
    {
     "data": {
      "text/html": [
       "<div>\n",
       "<style scoped>\n",
       "    .dataframe tbody tr th:only-of-type {\n",
       "        vertical-align: middle;\n",
       "    }\n",
       "\n",
       "    .dataframe tbody tr th {\n",
       "        vertical-align: top;\n",
       "    }\n",
       "\n",
       "    .dataframe thead th {\n",
       "        text-align: right;\n",
       "    }\n",
       "</style>\n",
       "<table border=\"1\" class=\"dataframe\">\n",
       "  <thead>\n",
       "    <tr style=\"text-align: right;\">\n",
       "      <th></th>\n",
       "      <th>SEX</th>\n",
       "      <th>AGE</th>\n",
       "      <th>POPESTIMATE2018</th>\n",
       "      <th>POPESTIMATE2019</th>\n",
       "    </tr>\n",
       "  </thead>\n",
       "  <tbody>\n",
       "    <tr>\n",
       "      <th>298</th>\n",
       "      <td>2</td>\n",
       "      <td>96</td>\n",
       "      <td>108573</td>\n",
       "      <td>111417</td>\n",
       "    </tr>\n",
       "    <tr>\n",
       "      <th>299</th>\n",
       "      <td>2</td>\n",
       "      <td>97</td>\n",
       "      <td>82100</td>\n",
       "      <td>84358</td>\n",
       "    </tr>\n",
       "    <tr>\n",
       "      <th>300</th>\n",
       "      <td>2</td>\n",
       "      <td>98</td>\n",
       "      <td>57593</td>\n",
       "      <td>62607</td>\n",
       "    </tr>\n",
       "    <tr>\n",
       "      <th>301</th>\n",
       "      <td>2</td>\n",
       "      <td>99</td>\n",
       "      <td>39576</td>\n",
       "      <td>42528</td>\n",
       "    </tr>\n",
       "    <tr>\n",
       "      <th>302</th>\n",
       "      <td>2</td>\n",
       "      <td>100</td>\n",
       "      <td>72153</td>\n",
       "      <td>76850</td>\n",
       "    </tr>\n",
       "  </tbody>\n",
       "</table>\n",
       "</div>"
      ],
      "text/plain": [
       "     SEX  AGE  POPESTIMATE2018  POPESTIMATE2019\n",
       "298    2   96           108573           111417\n",
       "299    2   97            82100            84358\n",
       "300    2   98            57593            62607\n",
       "301    2   99            39576            42528\n",
       "302    2  100            72153            76850"
      ]
     },
     "execution_count": 16,
     "metadata": {},
     "output_type": "execute_result"
    }
   ],
   "source": [
    "pops.tail()"
   ]
  },
  {
   "cell_type": "code",
   "execution_count": 17,
   "metadata": {},
   "outputs": [
    {
     "data": {
      "text/html": [
       "<div>\n",
       "<style scoped>\n",
       "    .dataframe tbody tr th:only-of-type {\n",
       "        vertical-align: middle;\n",
       "    }\n",
       "\n",
       "    .dataframe tbody tr th {\n",
       "        vertical-align: top;\n",
       "    }\n",
       "\n",
       "    .dataframe thead th {\n",
       "        text-align: right;\n",
       "    }\n",
       "</style>\n",
       "<table border=\"1\" class=\"dataframe\">\n",
       "  <thead>\n",
       "    <tr style=\"text-align: right;\">\n",
       "      <th></th>\n",
       "      <th>SEX</th>\n",
       "      <th>AGE</th>\n",
       "      <th>POPESTIMATE2018</th>\n",
       "      <th>POPESTIMATE2019</th>\n",
       "    </tr>\n",
       "  </thead>\n",
       "  <tbody>\n",
       "    <tr>\n",
       "      <th>count</th>\n",
       "      <td>303.000000</td>\n",
       "      <td>303.000000</td>\n",
       "      <td>3.030000e+02</td>\n",
       "      <td>3.030000e+02</td>\n",
       "    </tr>\n",
       "    <tr>\n",
       "      <th>mean</th>\n",
       "      <td>1.000000</td>\n",
       "      <td>50.000000</td>\n",
       "      <td>2.156353e+06</td>\n",
       "      <td>2.166598e+06</td>\n",
       "    </tr>\n",
       "    <tr>\n",
       "      <th>std</th>\n",
       "      <td>0.817847</td>\n",
       "      <td>29.202989</td>\n",
       "      <td>1.311979e+06</td>\n",
       "      <td>1.308517e+06</td>\n",
       "    </tr>\n",
       "    <tr>\n",
       "      <th>min</th>\n",
       "      <td>0.000000</td>\n",
       "      <td>0.000000</td>\n",
       "      <td>1.360800e+04</td>\n",
       "      <td>1.459600e+04</td>\n",
       "    </tr>\n",
       "    <tr>\n",
       "      <th>25%</th>\n",
       "      <td>0.000000</td>\n",
       "      <td>25.000000</td>\n",
       "      <td>1.273158e+06</td>\n",
       "      <td>1.408510e+06</td>\n",
       "    </tr>\n",
       "    <tr>\n",
       "      <th>50%</th>\n",
       "      <td>1.000000</td>\n",
       "      <td>50.000000</td>\n",
       "      <td>2.073767e+06</td>\n",
       "      <td>2.071538e+06</td>\n",
       "    </tr>\n",
       "    <tr>\n",
       "      <th>75%</th>\n",
       "      <td>2.000000</td>\n",
       "      <td>75.000000</td>\n",
       "      <td>2.373338e+06</td>\n",
       "      <td>2.394120e+06</td>\n",
       "    </tr>\n",
       "    <tr>\n",
       "      <th>max</th>\n",
       "      <td>2.000000</td>\n",
       "      <td>100.000000</td>\n",
       "      <td>4.803933e+06</td>\n",
       "      <td>4.818725e+06</td>\n",
       "    </tr>\n",
       "  </tbody>\n",
       "</table>\n",
       "</div>"
      ],
      "text/plain": [
       "              SEX         AGE  POPESTIMATE2018  POPESTIMATE2019\n",
       "count  303.000000  303.000000     3.030000e+02     3.030000e+02\n",
       "mean     1.000000   50.000000     2.156353e+06     2.166598e+06\n",
       "std      0.817847   29.202989     1.311979e+06     1.308517e+06\n",
       "min      0.000000    0.000000     1.360800e+04     1.459600e+04\n",
       "25%      0.000000   25.000000     1.273158e+06     1.408510e+06\n",
       "50%      1.000000   50.000000     2.073767e+06     2.071538e+06\n",
       "75%      2.000000   75.000000     2.373338e+06     2.394120e+06\n",
       "max      2.000000  100.000000     4.803933e+06     4.818725e+06"
      ]
     },
     "execution_count": 17,
     "metadata": {},
     "output_type": "execute_result"
    }
   ],
   "source": [
    "pops.describe()"
   ]
  },
  {
   "cell_type": "markdown",
   "metadata": {},
   "source": [
    "### Accessing Columns"
   ]
  },
  {
   "cell_type": "code",
   "execution_count": 18,
   "metadata": {},
   "outputs": [
    {
     "data": {
      "text/plain": [
       "0      3783052\n",
       "1      3829599\n",
       "2      3922044\n",
       "3      3998665\n",
       "4      4043323\n",
       "        ...   \n",
       "298     111417\n",
       "299      84358\n",
       "300      62607\n",
       "301      42528\n",
       "302      76850\n",
       "Name: POPESTIMATE2019, Length: 303, dtype: int64"
      ]
     },
     "execution_count": 18,
     "metadata": {},
     "output_type": "execute_result"
    }
   ],
   "source": [
    "pops['POPESTIMATE2019']"
   ]
  },
  {
   "cell_type": "code",
   "execution_count": 19,
   "metadata": {},
   "outputs": [
    {
     "data": {
      "text/plain": [
       "0      3783052\n",
       "1      3829599\n",
       "2      3922044\n",
       "3      3998665\n",
       "4      4043323\n",
       "        ...   \n",
       "298     111417\n",
       "299      84358\n",
       "300      62607\n",
       "301      42528\n",
       "302      76850\n",
       "Name: POPESTIMATE2019, Length: 303, dtype: int64"
      ]
     },
     "execution_count": 19,
     "metadata": {},
     "output_type": "execute_result"
    }
   ],
   "source": [
    "pops.POPESTIMATE2019"
   ]
  },
  {
   "cell_type": "code",
   "execution_count": 20,
   "metadata": {},
   "outputs": [
    {
     "data": {
      "text/html": [
       "<div>\n",
       "<style scoped>\n",
       "    .dataframe tbody tr th:only-of-type {\n",
       "        vertical-align: middle;\n",
       "    }\n",
       "\n",
       "    .dataframe tbody tr th {\n",
       "        vertical-align: top;\n",
       "    }\n",
       "\n",
       "    .dataframe thead th {\n",
       "        text-align: right;\n",
       "    }\n",
       "</style>\n",
       "<table border=\"1\" class=\"dataframe\">\n",
       "  <thead>\n",
       "    <tr style=\"text-align: right;\">\n",
       "      <th></th>\n",
       "      <th>AGE</th>\n",
       "      <th>SEX</th>\n",
       "      <th>POPESTIMATE2019</th>\n",
       "    </tr>\n",
       "  </thead>\n",
       "  <tbody>\n",
       "    <tr>\n",
       "      <th>0</th>\n",
       "      <td>0</td>\n",
       "      <td>0</td>\n",
       "      <td>3783052</td>\n",
       "    </tr>\n",
       "    <tr>\n",
       "      <th>1</th>\n",
       "      <td>1</td>\n",
       "      <td>0</td>\n",
       "      <td>3829599</td>\n",
       "    </tr>\n",
       "    <tr>\n",
       "      <th>2</th>\n",
       "      <td>2</td>\n",
       "      <td>0</td>\n",
       "      <td>3922044</td>\n",
       "    </tr>\n",
       "    <tr>\n",
       "      <th>3</th>\n",
       "      <td>3</td>\n",
       "      <td>0</td>\n",
       "      <td>3998665</td>\n",
       "    </tr>\n",
       "    <tr>\n",
       "      <th>4</th>\n",
       "      <td>4</td>\n",
       "      <td>0</td>\n",
       "      <td>4043323</td>\n",
       "    </tr>\n",
       "    <tr>\n",
       "      <th>...</th>\n",
       "      <td>...</td>\n",
       "      <td>...</td>\n",
       "      <td>...</td>\n",
       "    </tr>\n",
       "    <tr>\n",
       "      <th>298</th>\n",
       "      <td>96</td>\n",
       "      <td>2</td>\n",
       "      <td>111417</td>\n",
       "    </tr>\n",
       "    <tr>\n",
       "      <th>299</th>\n",
       "      <td>97</td>\n",
       "      <td>2</td>\n",
       "      <td>84358</td>\n",
       "    </tr>\n",
       "    <tr>\n",
       "      <th>300</th>\n",
       "      <td>98</td>\n",
       "      <td>2</td>\n",
       "      <td>62607</td>\n",
       "    </tr>\n",
       "    <tr>\n",
       "      <th>301</th>\n",
       "      <td>99</td>\n",
       "      <td>2</td>\n",
       "      <td>42528</td>\n",
       "    </tr>\n",
       "    <tr>\n",
       "      <th>302</th>\n",
       "      <td>100</td>\n",
       "      <td>2</td>\n",
       "      <td>76850</td>\n",
       "    </tr>\n",
       "  </tbody>\n",
       "</table>\n",
       "<p>303 rows × 3 columns</p>\n",
       "</div>"
      ],
      "text/plain": [
       "     AGE  SEX  POPESTIMATE2019\n",
       "0      0    0          3783052\n",
       "1      1    0          3829599\n",
       "2      2    0          3922044\n",
       "3      3    0          3998665\n",
       "4      4    0          4043323\n",
       "..   ...  ...              ...\n",
       "298   96    2           111417\n",
       "299   97    2            84358\n",
       "300   98    2            62607\n",
       "301   99    2            42528\n",
       "302  100    2            76850\n",
       "\n",
       "[303 rows x 3 columns]"
      ]
     },
     "execution_count": 20,
     "metadata": {},
     "output_type": "execute_result"
    }
   ],
   "source": [
    "pops[['AGE', 'SEX', 'POPESTIMATE2019']]"
   ]
  },
  {
   "cell_type": "code",
   "execution_count": 21,
   "metadata": {},
   "outputs": [
    {
     "data": {
      "text/html": [
       "<div>\n",
       "<style scoped>\n",
       "    .dataframe tbody tr th:only-of-type {\n",
       "        vertical-align: middle;\n",
       "    }\n",
       "\n",
       "    .dataframe tbody tr th {\n",
       "        vertical-align: top;\n",
       "    }\n",
       "\n",
       "    .dataframe thead th {\n",
       "        text-align: right;\n",
       "    }\n",
       "</style>\n",
       "<table border=\"1\" class=\"dataframe\">\n",
       "  <thead>\n",
       "    <tr style=\"text-align: right;\">\n",
       "      <th></th>\n",
       "      <th>AGE</th>\n",
       "      <th>SEX</th>\n",
       "      <th>POPESTIMATE2019</th>\n",
       "    </tr>\n",
       "  </thead>\n",
       "  <tbody>\n",
       "    <tr>\n",
       "      <th>0</th>\n",
       "      <td>0</td>\n",
       "      <td>0</td>\n",
       "      <td>3783052</td>\n",
       "    </tr>\n",
       "    <tr>\n",
       "      <th>1</th>\n",
       "      <td>1</td>\n",
       "      <td>0</td>\n",
       "      <td>3829599</td>\n",
       "    </tr>\n",
       "    <tr>\n",
       "      <th>2</th>\n",
       "      <td>2</td>\n",
       "      <td>0</td>\n",
       "      <td>3922044</td>\n",
       "    </tr>\n",
       "    <tr>\n",
       "      <th>3</th>\n",
       "      <td>3</td>\n",
       "      <td>0</td>\n",
       "      <td>3998665</td>\n",
       "    </tr>\n",
       "    <tr>\n",
       "      <th>4</th>\n",
       "      <td>4</td>\n",
       "      <td>0</td>\n",
       "      <td>4043323</td>\n",
       "    </tr>\n",
       "    <tr>\n",
       "      <th>...</th>\n",
       "      <td>...</td>\n",
       "      <td>...</td>\n",
       "      <td>...</td>\n",
       "    </tr>\n",
       "    <tr>\n",
       "      <th>298</th>\n",
       "      <td>96</td>\n",
       "      <td>2</td>\n",
       "      <td>111417</td>\n",
       "    </tr>\n",
       "    <tr>\n",
       "      <th>299</th>\n",
       "      <td>97</td>\n",
       "      <td>2</td>\n",
       "      <td>84358</td>\n",
       "    </tr>\n",
       "    <tr>\n",
       "      <th>300</th>\n",
       "      <td>98</td>\n",
       "      <td>2</td>\n",
       "      <td>62607</td>\n",
       "    </tr>\n",
       "    <tr>\n",
       "      <th>301</th>\n",
       "      <td>99</td>\n",
       "      <td>2</td>\n",
       "      <td>42528</td>\n",
       "    </tr>\n",
       "    <tr>\n",
       "      <th>302</th>\n",
       "      <td>100</td>\n",
       "      <td>2</td>\n",
       "      <td>76850</td>\n",
       "    </tr>\n",
       "  </tbody>\n",
       "</table>\n",
       "<p>303 rows × 3 columns</p>\n",
       "</div>"
      ],
      "text/plain": [
       "     AGE  SEX  POPESTIMATE2019\n",
       "0      0    0          3783052\n",
       "1      1    0          3829599\n",
       "2      2    0          3922044\n",
       "3      3    0          3998665\n",
       "4      4    0          4043323\n",
       "..   ...  ...              ...\n",
       "298   96    2           111417\n",
       "299   97    2            84358\n",
       "300   98    2            62607\n",
       "301   99    2            42528\n",
       "302  100    2            76850\n",
       "\n",
       "[303 rows x 3 columns]"
      ]
     },
     "execution_count": 21,
     "metadata": {},
     "output_type": "execute_result"
    }
   ],
   "source": [
    "cols = ['AGE', 'SEX', 'POPESTIMATE2019']\n",
    "pops[cols]"
   ]
  },
  {
   "cell_type": "markdown",
   "metadata": {},
   "source": [
    "### Changing Values in a Column"
   ]
  },
  {
   "cell_type": "code",
   "execution_count": 22,
   "metadata": {},
   "outputs": [
    {
     "data": {
      "text/plain": [
       "array([0, 1, 2], dtype=int64)"
      ]
     },
     "execution_count": 22,
     "metadata": {},
     "output_type": "execute_result"
    }
   ],
   "source": [
    "pops.SEX.unique() # Current values of pops.SEX"
   ]
  },
  {
   "cell_type": "code",
   "execution_count": 23,
   "metadata": {},
   "outputs": [],
   "source": [
    "def fix_sex_values(sex):\n",
    "    if sex == 0:\n",
    "        return 'T'\n",
    "    elif sex == 1:\n",
    "        return 'M'\n",
    "    else: # 2\n",
    "        return 'F'\n",
    "    \n",
    "pops.SEX = pops.SEX.apply(fix_sex_values)"
   ]
  },
  {
   "cell_type": "code",
   "execution_count": 24,
   "metadata": {},
   "outputs": [
    {
     "data": {
      "text/plain": [
       "array(['T', 'M', 'F'], dtype=object)"
      ]
     },
     "execution_count": 24,
     "metadata": {},
     "output_type": "execute_result"
    }
   ],
   "source": [
    "pops.SEX.unique() # New values of pops.SEX"
   ]
  },
  {
   "cell_type": "markdown",
   "metadata": {},
   "source": [
    "### Setting the index when creating the `DataFrame`"
   ]
  },
  {
   "cell_type": "code",
   "execution_count": 25,
   "metadata": {},
   "outputs": [
    {
     "data": {
      "text/html": [
       "<div>\n",
       "<style scoped>\n",
       "    .dataframe tbody tr th:only-of-type {\n",
       "        vertical-align: middle;\n",
       "    }\n",
       "\n",
       "    .dataframe tbody tr th {\n",
       "        vertical-align: top;\n",
       "    }\n",
       "\n",
       "    .dataframe thead th {\n",
       "        text-align: right;\n",
       "    }\n",
       "</style>\n",
       "<table border=\"1\" class=\"dataframe\">\n",
       "  <thead>\n",
       "    <tr style=\"text-align: right;\">\n",
       "      <th></th>\n",
       "      <th>Tm</th>\n",
       "      <th>G</th>\n",
       "      <th>PA</th>\n",
       "      <th>AB</th>\n",
       "      <th>R</th>\n",
       "      <th>H</th>\n",
       "    </tr>\n",
       "    <tr>\n",
       "      <th>Year</th>\n",
       "      <th></th>\n",
       "      <th></th>\n",
       "      <th></th>\n",
       "      <th></th>\n",
       "      <th></th>\n",
       "      <th></th>\n",
       "    </tr>\n",
       "  </thead>\n",
       "  <tbody>\n",
       "    <tr>\n",
       "      <th>1951</th>\n",
       "      <td>NYY</td>\n",
       "      <td>96</td>\n",
       "      <td>386</td>\n",
       "      <td>341</td>\n",
       "      <td>61</td>\n",
       "      <td>91</td>\n",
       "    </tr>\n",
       "    <tr>\n",
       "      <th>1952</th>\n",
       "      <td>NYY</td>\n",
       "      <td>142</td>\n",
       "      <td>626</td>\n",
       "      <td>549</td>\n",
       "      <td>94</td>\n",
       "      <td>171</td>\n",
       "    </tr>\n",
       "    <tr>\n",
       "      <th>1953</th>\n",
       "      <td>NYY</td>\n",
       "      <td>127</td>\n",
       "      <td>540</td>\n",
       "      <td>461</td>\n",
       "      <td>105</td>\n",
       "      <td>136</td>\n",
       "    </tr>\n",
       "    <tr>\n",
       "      <th>1954</th>\n",
       "      <td>NYY</td>\n",
       "      <td>146</td>\n",
       "      <td>649</td>\n",
       "      <td>543</td>\n",
       "      <td>129</td>\n",
       "      <td>163</td>\n",
       "    </tr>\n",
       "    <tr>\n",
       "      <th>1955</th>\n",
       "      <td>NYY</td>\n",
       "      <td>147</td>\n",
       "      <td>638</td>\n",
       "      <td>517</td>\n",
       "      <td>121</td>\n",
       "      <td>158</td>\n",
       "    </tr>\n",
       "  </tbody>\n",
       "</table>\n",
       "</div>"
      ],
      "text/plain": [
       "       Tm    G   PA   AB    R    H\n",
       "Year                              \n",
       "1951  NYY   96  386  341   61   91\n",
       "1952  NYY  142  626  549   94  171\n",
       "1953  NYY  127  540  461  105  136\n",
       "1954  NYY  146  649  543  129  163\n",
       "1955  NYY  147  638  517  121  158"
      ]
     },
     "execution_count": 25,
     "metadata": {},
     "output_type": "execute_result"
    }
   ],
   "source": [
    "csv ='../csvs/mantle.csv'\n",
    "mantle = pd.read_csv(csv, usecols=range(7), index_col='Year')\n",
    "mantle.head()"
   ]
  },
  {
   "cell_type": "markdown",
   "metadata": {},
   "source": [
    "### Changing the index of an Existing `DataFrame`"
   ]
  },
  {
   "cell_type": "code",
   "execution_count": 26,
   "metadata": {},
   "outputs": [
    {
     "data": {
      "text/html": [
       "<div>\n",
       "<style scoped>\n",
       "    .dataframe tbody tr th:only-of-type {\n",
       "        vertical-align: middle;\n",
       "    }\n",
       "\n",
       "    .dataframe tbody tr th {\n",
       "        vertical-align: top;\n",
       "    }\n",
       "\n",
       "    .dataframe thead th {\n",
       "        text-align: right;\n",
       "    }\n",
       "</style>\n",
       "<table border=\"1\" class=\"dataframe\">\n",
       "  <thead>\n",
       "    <tr style=\"text-align: right;\">\n",
       "      <th></th>\n",
       "      <th>SEX</th>\n",
       "      <th>AGE</th>\n",
       "      <th>POPESTIMATE2018</th>\n",
       "      <th>POPESTIMATE2019</th>\n",
       "    </tr>\n",
       "    <tr>\n",
       "      <th>SEX_AGE</th>\n",
       "      <th></th>\n",
       "      <th></th>\n",
       "      <th></th>\n",
       "      <th></th>\n",
       "    </tr>\n",
       "  </thead>\n",
       "  <tbody>\n",
       "    <tr>\n",
       "      <th>T0</th>\n",
       "      <td>T</td>\n",
       "      <td>0</td>\n",
       "      <td>3815343</td>\n",
       "      <td>3783052</td>\n",
       "    </tr>\n",
       "    <tr>\n",
       "      <th>T1</th>\n",
       "      <td>T</td>\n",
       "      <td>1</td>\n",
       "      <td>3908830</td>\n",
       "      <td>3829599</td>\n",
       "    </tr>\n",
       "    <tr>\n",
       "      <th>T2</th>\n",
       "      <td>T</td>\n",
       "      <td>2</td>\n",
       "      <td>3987032</td>\n",
       "      <td>3922044</td>\n",
       "    </tr>\n",
       "    <tr>\n",
       "      <th>T3</th>\n",
       "      <td>T</td>\n",
       "      <td>3</td>\n",
       "      <td>4033038</td>\n",
       "      <td>3998665</td>\n",
       "    </tr>\n",
       "    <tr>\n",
       "      <th>T4</th>\n",
       "      <td>T</td>\n",
       "      <td>4</td>\n",
       "      <td>4018719</td>\n",
       "      <td>4043323</td>\n",
       "    </tr>\n",
       "    <tr>\n",
       "      <th>...</th>\n",
       "      <td>...</td>\n",
       "      <td>...</td>\n",
       "      <td>...</td>\n",
       "      <td>...</td>\n",
       "    </tr>\n",
       "    <tr>\n",
       "      <th>F96</th>\n",
       "      <td>F</td>\n",
       "      <td>96</td>\n",
       "      <td>108573</td>\n",
       "      <td>111417</td>\n",
       "    </tr>\n",
       "    <tr>\n",
       "      <th>F97</th>\n",
       "      <td>F</td>\n",
       "      <td>97</td>\n",
       "      <td>82100</td>\n",
       "      <td>84358</td>\n",
       "    </tr>\n",
       "    <tr>\n",
       "      <th>F98</th>\n",
       "      <td>F</td>\n",
       "      <td>98</td>\n",
       "      <td>57593</td>\n",
       "      <td>62607</td>\n",
       "    </tr>\n",
       "    <tr>\n",
       "      <th>F99</th>\n",
       "      <td>F</td>\n",
       "      <td>99</td>\n",
       "      <td>39576</td>\n",
       "      <td>42528</td>\n",
       "    </tr>\n",
       "    <tr>\n",
       "      <th>F100</th>\n",
       "      <td>F</td>\n",
       "      <td>100</td>\n",
       "      <td>72153</td>\n",
       "      <td>76850</td>\n",
       "    </tr>\n",
       "  </tbody>\n",
       "</table>\n",
       "<p>303 rows × 4 columns</p>\n",
       "</div>"
      ],
      "text/plain": [
       "        SEX  AGE  POPESTIMATE2018  POPESTIMATE2019\n",
       "SEX_AGE                                           \n",
       "T0        T    0          3815343          3783052\n",
       "T1        T    1          3908830          3829599\n",
       "T2        T    2          3987032          3922044\n",
       "T3        T    3          4033038          3998665\n",
       "T4        T    4          4018719          4043323\n",
       "...      ..  ...              ...              ...\n",
       "F96       F   96           108573           111417\n",
       "F97       F   97            82100            84358\n",
       "F98       F   98            57593            62607\n",
       "F99       F   99            39576            42528\n",
       "F100      F  100            72153            76850\n",
       "\n",
       "[303 rows x 4 columns]"
      ]
     },
     "execution_count": 26,
     "metadata": {},
     "output_type": "execute_result"
    }
   ],
   "source": [
    "pops['SEX_AGE'] = pops['SEX'] + pops['AGE'].apply(str)\n",
    "pops.set_index('SEX_AGE', inplace=True)\n",
    "pops"
   ]
  },
  {
   "cell_type": "markdown",
   "metadata": {},
   "source": [
    "### Accessing Rows"
   ]
  },
  {
   "cell_type": "code",
   "execution_count": 27,
   "metadata": {},
   "outputs": [
    {
     "data": {
      "text/plain": [
       "SEX                      T\n",
       "AGE                     25\n",
       "POPESTIMATE2018    4593783\n",
       "POPESTIMATE2019    4539058\n",
       "Name: T25, dtype: object"
      ]
     },
     "execution_count": 27,
     "metadata": {},
     "output_type": "execute_result"
    }
   ],
   "source": [
    "pops.loc['T25']"
   ]
  },
  {
   "cell_type": "code",
   "execution_count": 28,
   "metadata": {},
   "outputs": [
    {
     "data": {
      "text/html": [
       "<div>\n",
       "<style scoped>\n",
       "    .dataframe tbody tr th:only-of-type {\n",
       "        vertical-align: middle;\n",
       "    }\n",
       "\n",
       "    .dataframe tbody tr th {\n",
       "        vertical-align: top;\n",
       "    }\n",
       "\n",
       "    .dataframe thead th {\n",
       "        text-align: right;\n",
       "    }\n",
       "</style>\n",
       "<table border=\"1\" class=\"dataframe\">\n",
       "  <thead>\n",
       "    <tr style=\"text-align: right;\">\n",
       "      <th></th>\n",
       "      <th>SEX</th>\n",
       "      <th>AGE</th>\n",
       "      <th>POPESTIMATE2018</th>\n",
       "      <th>POPESTIMATE2019</th>\n",
       "    </tr>\n",
       "    <tr>\n",
       "      <th>SEX_AGE</th>\n",
       "      <th></th>\n",
       "      <th></th>\n",
       "      <th></th>\n",
       "      <th></th>\n",
       "    </tr>\n",
       "  </thead>\n",
       "  <tbody>\n",
       "    <tr>\n",
       "      <th>F25</th>\n",
       "      <td>F</td>\n",
       "      <td>25</td>\n",
       "      <td>2234325</td>\n",
       "      <td>2213205</td>\n",
       "    </tr>\n",
       "    <tr>\n",
       "      <th>M25</th>\n",
       "      <td>M</td>\n",
       "      <td>25</td>\n",
       "      <td>2359458</td>\n",
       "      <td>2325853</td>\n",
       "    </tr>\n",
       "    <tr>\n",
       "      <th>T25</th>\n",
       "      <td>T</td>\n",
       "      <td>25</td>\n",
       "      <td>4593783</td>\n",
       "      <td>4539058</td>\n",
       "    </tr>\n",
       "  </tbody>\n",
       "</table>\n",
       "</div>"
      ],
      "text/plain": [
       "        SEX  AGE  POPESTIMATE2018  POPESTIMATE2019\n",
       "SEX_AGE                                           \n",
       "F25       F   25          2234325          2213205\n",
       "M25       M   25          2359458          2325853\n",
       "T25       T   25          4593783          4539058"
      ]
     },
     "execution_count": 28,
     "metadata": {},
     "output_type": "execute_result"
    }
   ],
   "source": [
    "pops.loc[['F25', 'M25', 'T25']]"
   ]
  },
  {
   "cell_type": "code",
   "execution_count": 60,
   "metadata": {},
   "outputs": [
    {
     "data": {
      "text/html": [
       "<div>\n",
       "<style scoped>\n",
       "    .dataframe tbody tr th:only-of-type {\n",
       "        vertical-align: middle;\n",
       "    }\n",
       "\n",
       "    .dataframe tbody tr th {\n",
       "        vertical-align: top;\n",
       "    }\n",
       "\n",
       "    .dataframe thead th {\n",
       "        text-align: right;\n",
       "    }\n",
       "</style>\n",
       "<table border=\"1\" class=\"dataframe\">\n",
       "  <thead>\n",
       "    <tr style=\"text-align: right;\">\n",
       "      <th></th>\n",
       "      <th>SEX</th>\n",
       "      <th>AGE</th>\n",
       "      <th>POPESTIMATE2018</th>\n",
       "      <th>POPESTIMATE2019</th>\n",
       "    </tr>\n",
       "    <tr>\n",
       "      <th>SEX_AGE</th>\n",
       "      <th></th>\n",
       "      <th></th>\n",
       "      <th></th>\n",
       "      <th></th>\n",
       "    </tr>\n",
       "  </thead>\n",
       "  <tbody>\n",
       "    <tr>\n",
       "      <th>T20</th>\n",
       "      <td>T</td>\n",
       "      <td>20</td>\n",
       "      <td>4262078</td>\n",
       "      <td>4269683</td>\n",
       "    </tr>\n",
       "    <tr>\n",
       "      <th>T21</th>\n",
       "      <td>T</td>\n",
       "      <td>21</td>\n",
       "      <td>4279527</td>\n",
       "      <td>4278323</td>\n",
       "    </tr>\n",
       "    <tr>\n",
       "      <th>T22</th>\n",
       "      <td>T</td>\n",
       "      <td>22</td>\n",
       "      <td>4321222</td>\n",
       "      <td>4298772</td>\n",
       "    </tr>\n",
       "    <tr>\n",
       "      <th>T23</th>\n",
       "      <td>T</td>\n",
       "      <td>23</td>\n",
       "      <td>4424783</td>\n",
       "      <td>4341644</td>\n",
       "    </tr>\n",
       "    <tr>\n",
       "      <th>T24</th>\n",
       "      <td>T</td>\n",
       "      <td>24</td>\n",
       "      <td>4520476</td>\n",
       "      <td>4444518</td>\n",
       "    </tr>\n",
       "    <tr>\n",
       "      <th>T25</th>\n",
       "      <td>T</td>\n",
       "      <td>25</td>\n",
       "      <td>4593783</td>\n",
       "      <td>4539058</td>\n",
       "    </tr>\n",
       "  </tbody>\n",
       "</table>\n",
       "</div>"
      ],
      "text/plain": [
       "        SEX  AGE  POPESTIMATE2018  POPESTIMATE2019\n",
       "SEX_AGE                                           \n",
       "T20       T   20          4262078          4269683\n",
       "T21       T   21          4279527          4278323\n",
       "T22       T   22          4321222          4298772\n",
       "T23       T   23          4424783          4341644\n",
       "T24       T   24          4520476          4444518\n",
       "T25       T   25          4593783          4539058"
      ]
     },
     "execution_count": 60,
     "metadata": {},
     "output_type": "execute_result"
    }
   ],
   "source": [
    "pops.loc['T20':'T25']"
   ]
  },
  {
   "cell_type": "code",
   "execution_count": 30,
   "metadata": {},
   "outputs": [
    {
     "data": {
      "text/plain": [
       "SEX                      T\n",
       "AGE                      4\n",
       "POPESTIMATE2018    4018719\n",
       "POPESTIMATE2019    4043323\n",
       "Name: T4, dtype: object"
      ]
     },
     "execution_count": 30,
     "metadata": {},
     "output_type": "execute_result"
    }
   ],
   "source": [
    "pops.iloc[4]"
   ]
  },
  {
   "cell_type": "code",
   "execution_count": 31,
   "metadata": {},
   "outputs": [
    {
     "data": {
      "text/html": [
       "<div>\n",
       "<style scoped>\n",
       "    .dataframe tbody tr th:only-of-type {\n",
       "        vertical-align: middle;\n",
       "    }\n",
       "\n",
       "    .dataframe tbody tr th {\n",
       "        vertical-align: top;\n",
       "    }\n",
       "\n",
       "    .dataframe thead th {\n",
       "        text-align: right;\n",
       "    }\n",
       "</style>\n",
       "<table border=\"1\" class=\"dataframe\">\n",
       "  <thead>\n",
       "    <tr style=\"text-align: right;\">\n",
       "      <th></th>\n",
       "      <th>SEX</th>\n",
       "      <th>AGE</th>\n",
       "      <th>POPESTIMATE2018</th>\n",
       "      <th>POPESTIMATE2019</th>\n",
       "    </tr>\n",
       "    <tr>\n",
       "      <th>SEX_AGE</th>\n",
       "      <th></th>\n",
       "      <th></th>\n",
       "      <th></th>\n",
       "      <th></th>\n",
       "    </tr>\n",
       "  </thead>\n",
       "  <tbody>\n",
       "    <tr>\n",
       "      <th>T0</th>\n",
       "      <td>T</td>\n",
       "      <td>0</td>\n",
       "      <td>3815343</td>\n",
       "      <td>3783052</td>\n",
       "    </tr>\n",
       "    <tr>\n",
       "      <th>T1</th>\n",
       "      <td>T</td>\n",
       "      <td>1</td>\n",
       "      <td>3908830</td>\n",
       "      <td>3829599</td>\n",
       "    </tr>\n",
       "    <tr>\n",
       "      <th>T2</th>\n",
       "      <td>T</td>\n",
       "      <td>2</td>\n",
       "      <td>3987032</td>\n",
       "      <td>3922044</td>\n",
       "    </tr>\n",
       "    <tr>\n",
       "      <th>F98</th>\n",
       "      <td>F</td>\n",
       "      <td>98</td>\n",
       "      <td>57593</td>\n",
       "      <td>62607</td>\n",
       "    </tr>\n",
       "    <tr>\n",
       "      <th>F99</th>\n",
       "      <td>F</td>\n",
       "      <td>99</td>\n",
       "      <td>39576</td>\n",
       "      <td>42528</td>\n",
       "    </tr>\n",
       "    <tr>\n",
       "      <th>F100</th>\n",
       "      <td>F</td>\n",
       "      <td>100</td>\n",
       "      <td>72153</td>\n",
       "      <td>76850</td>\n",
       "    </tr>\n",
       "  </tbody>\n",
       "</table>\n",
       "</div>"
      ],
      "text/plain": [
       "        SEX  AGE  POPESTIMATE2018  POPESTIMATE2019\n",
       "SEX_AGE                                           \n",
       "T0        T    0          3815343          3783052\n",
       "T1        T    1          3908830          3829599\n",
       "T2        T    2          3987032          3922044\n",
       "F98       F   98            57593            62607\n",
       "F99       F   99            39576            42528\n",
       "F100      F  100            72153            76850"
      ]
     },
     "execution_count": 31,
     "metadata": {},
     "output_type": "execute_result"
    }
   ],
   "source": [
    "pops.iloc[[0, 1, 2, -3, -2, -1]]"
   ]
  },
  {
   "cell_type": "code",
   "execution_count": 32,
   "metadata": {},
   "outputs": [
    {
     "data": {
      "text/html": [
       "<div>\n",
       "<style scoped>\n",
       "    .dataframe tbody tr th:only-of-type {\n",
       "        vertical-align: middle;\n",
       "    }\n",
       "\n",
       "    .dataframe tbody tr th {\n",
       "        vertical-align: top;\n",
       "    }\n",
       "\n",
       "    .dataframe thead th {\n",
       "        text-align: right;\n",
       "    }\n",
       "</style>\n",
       "<table border=\"1\" class=\"dataframe\">\n",
       "  <thead>\n",
       "    <tr style=\"text-align: right;\">\n",
       "      <th></th>\n",
       "      <th>SEX</th>\n",
       "      <th>AGE</th>\n",
       "      <th>POPESTIMATE2018</th>\n",
       "      <th>POPESTIMATE2019</th>\n",
       "    </tr>\n",
       "    <tr>\n",
       "      <th>SEX_AGE</th>\n",
       "      <th></th>\n",
       "      <th></th>\n",
       "      <th></th>\n",
       "      <th></th>\n",
       "    </tr>\n",
       "  </thead>\n",
       "  <tbody>\n",
       "    <tr>\n",
       "      <th>T0</th>\n",
       "      <td>T</td>\n",
       "      <td>0</td>\n",
       "      <td>3815343</td>\n",
       "      <td>3783052</td>\n",
       "    </tr>\n",
       "    <tr>\n",
       "      <th>T1</th>\n",
       "      <td>T</td>\n",
       "      <td>1</td>\n",
       "      <td>3908830</td>\n",
       "      <td>3829599</td>\n",
       "    </tr>\n",
       "    <tr>\n",
       "      <th>T2</th>\n",
       "      <td>T</td>\n",
       "      <td>2</td>\n",
       "      <td>3987032</td>\n",
       "      <td>3922044</td>\n",
       "    </tr>\n",
       "    <tr>\n",
       "      <th>T3</th>\n",
       "      <td>T</td>\n",
       "      <td>3</td>\n",
       "      <td>4033038</td>\n",
       "      <td>3998665</td>\n",
       "    </tr>\n",
       "    <tr>\n",
       "      <th>T4</th>\n",
       "      <td>T</td>\n",
       "      <td>4</td>\n",
       "      <td>4018719</td>\n",
       "      <td>4043323</td>\n",
       "    </tr>\n",
       "  </tbody>\n",
       "</table>\n",
       "</div>"
      ],
      "text/plain": [
       "        SEX  AGE  POPESTIMATE2018  POPESTIMATE2019\n",
       "SEX_AGE                                           \n",
       "T0        T    0          3815343          3783052\n",
       "T1        T    1          3908830          3829599\n",
       "T2        T    2          3987032          3922044\n",
       "T3        T    3          4033038          3998665\n",
       "T4        T    4          4018719          4043323"
      ]
     },
     "execution_count": 32,
     "metadata": {},
     "output_type": "execute_result"
    }
   ],
   "source": [
    "pops.iloc[:5]"
   ]
  },
  {
   "cell_type": "markdown",
   "metadata": {},
   "source": [
    "### Combining Row and Column Selection"
   ]
  },
  {
   "cell_type": "code",
   "execution_count": 33,
   "metadata": {},
   "outputs": [
    {
     "data": {
      "text/plain": [
       "pandas.core.frame.DataFrame"
      ]
     },
     "execution_count": 33,
     "metadata": {},
     "output_type": "execute_result"
    }
   ],
   "source": [
    "first5rows = pops.iloc[:5]\n",
    "type(first5rows)"
   ]
  },
  {
   "cell_type": "markdown",
   "metadata": {},
   "source": [
    "#### Two Steps - Rows First"
   ]
  },
  {
   "cell_type": "code",
   "execution_count": 34,
   "metadata": {},
   "outputs": [
    {
     "data": {
      "text/html": [
       "<div>\n",
       "<style scoped>\n",
       "    .dataframe tbody tr th:only-of-type {\n",
       "        vertical-align: middle;\n",
       "    }\n",
       "\n",
       "    .dataframe tbody tr th {\n",
       "        vertical-align: top;\n",
       "    }\n",
       "\n",
       "    .dataframe thead th {\n",
       "        text-align: right;\n",
       "    }\n",
       "</style>\n",
       "<table border=\"1\" class=\"dataframe\">\n",
       "  <thead>\n",
       "    <tr style=\"text-align: right;\">\n",
       "      <th></th>\n",
       "      <th>POPESTIMATE2018</th>\n",
       "    </tr>\n",
       "    <tr>\n",
       "      <th>SEX_AGE</th>\n",
       "      <th></th>\n",
       "    </tr>\n",
       "  </thead>\n",
       "  <tbody>\n",
       "    <tr>\n",
       "      <th>T0</th>\n",
       "      <td>3815343</td>\n",
       "    </tr>\n",
       "    <tr>\n",
       "      <th>T1</th>\n",
       "      <td>3908830</td>\n",
       "    </tr>\n",
       "    <tr>\n",
       "      <th>T2</th>\n",
       "      <td>3987032</td>\n",
       "    </tr>\n",
       "    <tr>\n",
       "      <th>T3</th>\n",
       "      <td>4033038</td>\n",
       "    </tr>\n",
       "    <tr>\n",
       "      <th>T4</th>\n",
       "      <td>4018719</td>\n",
       "    </tr>\n",
       "  </tbody>\n",
       "</table>\n",
       "</div>"
      ],
      "text/plain": [
       "         POPESTIMATE2018\n",
       "SEX_AGE                 \n",
       "T0               3815343\n",
       "T1               3908830\n",
       "T2               3987032\n",
       "T3               4033038\n",
       "T4               4018719"
      ]
     },
     "execution_count": 34,
     "metadata": {},
     "output_type": "execute_result"
    }
   ],
   "source": [
    "first5rows = pops.iloc[:5]\n",
    "first5rows[['POPESTIMATE2018']]"
   ]
  },
  {
   "cell_type": "markdown",
   "metadata": {},
   "source": [
    "#### Two Steps - Columns First"
   ]
  },
  {
   "cell_type": "code",
   "execution_count": 35,
   "metadata": {},
   "outputs": [
    {
     "data": {
      "text/html": [
       "<div>\n",
       "<style scoped>\n",
       "    .dataframe tbody tr th:only-of-type {\n",
       "        vertical-align: middle;\n",
       "    }\n",
       "\n",
       "    .dataframe tbody tr th {\n",
       "        vertical-align: top;\n",
       "    }\n",
       "\n",
       "    .dataframe thead th {\n",
       "        text-align: right;\n",
       "    }\n",
       "</style>\n",
       "<table border=\"1\" class=\"dataframe\">\n",
       "  <thead>\n",
       "    <tr style=\"text-align: right;\">\n",
       "      <th></th>\n",
       "      <th>POPESTIMATE2018</th>\n",
       "    </tr>\n",
       "    <tr>\n",
       "      <th>SEX_AGE</th>\n",
       "      <th></th>\n",
       "    </tr>\n",
       "  </thead>\n",
       "  <tbody>\n",
       "    <tr>\n",
       "      <th>T0</th>\n",
       "      <td>3815343</td>\n",
       "    </tr>\n",
       "    <tr>\n",
       "      <th>T1</th>\n",
       "      <td>3908830</td>\n",
       "    </tr>\n",
       "    <tr>\n",
       "      <th>T2</th>\n",
       "      <td>3987032</td>\n",
       "    </tr>\n",
       "    <tr>\n",
       "      <th>T3</th>\n",
       "      <td>4033038</td>\n",
       "    </tr>\n",
       "    <tr>\n",
       "      <th>T4</th>\n",
       "      <td>4018719</td>\n",
       "    </tr>\n",
       "  </tbody>\n",
       "</table>\n",
       "</div>"
      ],
      "text/plain": [
       "         POPESTIMATE2018\n",
       "SEX_AGE                 \n",
       "T0               3815343\n",
       "T1               3908830\n",
       "T2               3987032\n",
       "T3               4033038\n",
       "T4               4018719"
      ]
     },
     "execution_count": 35,
     "metadata": {},
     "output_type": "execute_result"
    }
   ],
   "source": [
    "pop2018 = pops[['POPESTIMATE2018']]\n",
    "pop2018.iloc[:5]"
   ]
  },
  {
   "cell_type": "markdown",
   "metadata": {},
   "source": [
    "#### One Step - Rows First"
   ]
  },
  {
   "cell_type": "code",
   "execution_count": 36,
   "metadata": {},
   "outputs": [
    {
     "data": {
      "text/html": [
       "<div>\n",
       "<style scoped>\n",
       "    .dataframe tbody tr th:only-of-type {\n",
       "        vertical-align: middle;\n",
       "    }\n",
       "\n",
       "    .dataframe tbody tr th {\n",
       "        vertical-align: top;\n",
       "    }\n",
       "\n",
       "    .dataframe thead th {\n",
       "        text-align: right;\n",
       "    }\n",
       "</style>\n",
       "<table border=\"1\" class=\"dataframe\">\n",
       "  <thead>\n",
       "    <tr style=\"text-align: right;\">\n",
       "      <th></th>\n",
       "      <th>POPESTIMATE2018</th>\n",
       "    </tr>\n",
       "    <tr>\n",
       "      <th>SEX_AGE</th>\n",
       "      <th></th>\n",
       "    </tr>\n",
       "  </thead>\n",
       "  <tbody>\n",
       "    <tr>\n",
       "      <th>T0</th>\n",
       "      <td>3815343</td>\n",
       "    </tr>\n",
       "    <tr>\n",
       "      <th>T1</th>\n",
       "      <td>3908830</td>\n",
       "    </tr>\n",
       "    <tr>\n",
       "      <th>T2</th>\n",
       "      <td>3987032</td>\n",
       "    </tr>\n",
       "    <tr>\n",
       "      <th>T3</th>\n",
       "      <td>4033038</td>\n",
       "    </tr>\n",
       "    <tr>\n",
       "      <th>T4</th>\n",
       "      <td>4018719</td>\n",
       "    </tr>\n",
       "  </tbody>\n",
       "</table>\n",
       "</div>"
      ],
      "text/plain": [
       "         POPESTIMATE2018\n",
       "SEX_AGE                 \n",
       "T0               3815343\n",
       "T1               3908830\n",
       "T2               3987032\n",
       "T3               4033038\n",
       "T4               4018719"
      ]
     },
     "execution_count": 36,
     "metadata": {},
     "output_type": "execute_result"
    }
   ],
   "source": [
    "pops.iloc[:5][['POPESTIMATE2018']]"
   ]
  },
  {
   "cell_type": "markdown",
   "metadata": {},
   "source": [
    "#### One Step - Columns First"
   ]
  },
  {
   "cell_type": "code",
   "execution_count": 37,
   "metadata": {},
   "outputs": [
    {
     "data": {
      "text/html": [
       "<div>\n",
       "<style scoped>\n",
       "    .dataframe tbody tr th:only-of-type {\n",
       "        vertical-align: middle;\n",
       "    }\n",
       "\n",
       "    .dataframe tbody tr th {\n",
       "        vertical-align: top;\n",
       "    }\n",
       "\n",
       "    .dataframe thead th {\n",
       "        text-align: right;\n",
       "    }\n",
       "</style>\n",
       "<table border=\"1\" class=\"dataframe\">\n",
       "  <thead>\n",
       "    <tr style=\"text-align: right;\">\n",
       "      <th></th>\n",
       "      <th>POPESTIMATE2018</th>\n",
       "    </tr>\n",
       "    <tr>\n",
       "      <th>SEX_AGE</th>\n",
       "      <th></th>\n",
       "    </tr>\n",
       "  </thead>\n",
       "  <tbody>\n",
       "    <tr>\n",
       "      <th>T0</th>\n",
       "      <td>3815343</td>\n",
       "    </tr>\n",
       "    <tr>\n",
       "      <th>T1</th>\n",
       "      <td>3908830</td>\n",
       "    </tr>\n",
       "    <tr>\n",
       "      <th>T2</th>\n",
       "      <td>3987032</td>\n",
       "    </tr>\n",
       "    <tr>\n",
       "      <th>T3</th>\n",
       "      <td>4033038</td>\n",
       "    </tr>\n",
       "    <tr>\n",
       "      <th>T4</th>\n",
       "      <td>4018719</td>\n",
       "    </tr>\n",
       "  </tbody>\n",
       "</table>\n",
       "</div>"
      ],
      "text/plain": [
       "         POPESTIMATE2018\n",
       "SEX_AGE                 \n",
       "T0               3815343\n",
       "T1               3908830\n",
       "T2               3987032\n",
       "T3               4033038\n",
       "T4               4018719"
      ]
     },
     "execution_count": 37,
     "metadata": {},
     "output_type": "execute_result"
    }
   ],
   "source": [
    "pops[['POPESTIMATE2018']].iloc[:5]"
   ]
  },
  {
   "cell_type": "markdown",
   "metadata": {},
   "source": [
    "#### Getting a Series (Rows then Column)"
   ]
  },
  {
   "cell_type": "code",
   "execution_count": 61,
   "metadata": {},
   "outputs": [
    {
     "data": {
      "text/plain": [
       "SEX_AGE\n",
       "T0    3815343\n",
       "T1    3908830\n",
       "T2    3987032\n",
       "T3    4033038\n",
       "T4    4018719\n",
       "Name: POPESTIMATE2018, dtype: int64"
      ]
     },
     "execution_count": 61,
     "metadata": {},
     "output_type": "execute_result"
    }
   ],
   "source": [
    "pops.iloc[:5]['POPESTIMATE2018']"
   ]
  },
  {
   "cell_type": "code",
   "execution_count": 39,
   "metadata": {},
   "outputs": [
    {
     "data": {
      "text/plain": [
       "SEX_AGE\n",
       "T0    3815343\n",
       "T1    3908830\n",
       "T2    3987032\n",
       "T3    4033038\n",
       "T4    4018719\n",
       "Name: POPESTIMATE2018, dtype: int64"
      ]
     },
     "execution_count": 39,
     "metadata": {},
     "output_type": "execute_result"
    }
   ],
   "source": [
    "pops.iloc[:5].POPESTIMATE2018"
   ]
  },
  {
   "cell_type": "markdown",
   "metadata": {},
   "source": [
    "#### Getting a Series (Column then Rows)"
   ]
  },
  {
   "cell_type": "code",
   "execution_count": 40,
   "metadata": {},
   "outputs": [
    {
     "data": {
      "text/plain": [
       "SEX_AGE\n",
       "T0    3815343\n",
       "T1    3908830\n",
       "T2    3987032\n",
       "T3    4033038\n",
       "T4    4018719\n",
       "Name: POPESTIMATE2018, dtype: int64"
      ]
     },
     "execution_count": 40,
     "metadata": {},
     "output_type": "execute_result"
    }
   ],
   "source": [
    "pops['POPESTIMATE2018'].iloc[:5]"
   ]
  },
  {
   "cell_type": "code",
   "execution_count": 41,
   "metadata": {},
   "outputs": [
    {
     "data": {
      "text/plain": [
       "SEX_AGE\n",
       "T0    3815343\n",
       "T1    3908830\n",
       "T2    3987032\n",
       "T3    4033038\n",
       "T4    4018719\n",
       "Name: POPESTIMATE2018, dtype: int64"
      ]
     },
     "execution_count": 41,
     "metadata": {},
     "output_type": "execute_result"
    }
   ],
   "source": [
    "pops.POPESTIMATE2018.iloc[:5]"
   ]
  },
  {
   "cell_type": "markdown",
   "metadata": {},
   "source": [
    "### Math on a DataFrame vs. a Series"
   ]
  },
  {
   "cell_type": "code",
   "execution_count": 42,
   "metadata": {},
   "outputs": [
    {
     "data": {
      "text/plain": [
       "POPESTIMATE2018    3952592.4\n",
       "dtype: float64"
      ]
     },
     "execution_count": 42,
     "metadata": {},
     "output_type": "execute_result"
    }
   ],
   "source": [
    "pops.iloc[:5][['POPESTIMATE2018']].mean()"
   ]
  },
  {
   "cell_type": "code",
   "execution_count": 43,
   "metadata": {},
   "outputs": [
    {
     "data": {
      "text/plain": [
       "3952592.4"
      ]
     },
     "execution_count": 43,
     "metadata": {},
     "output_type": "execute_result"
    }
   ],
   "source": [
    "pops.iloc[:5]['POPESTIMATE2018'].mean()"
   ]
  },
  {
   "cell_type": "code",
   "execution_count": 44,
   "metadata": {},
   "outputs": [
    {
     "data": {
      "text/plain": [
       "POPESTIMATE2018    3952592.4\n",
       "POPESTIMATE2019    3915336.6\n",
       "dtype: float64"
      ]
     },
     "execution_count": 44,
     "metadata": {},
     "output_type": "execute_result"
    }
   ],
   "source": [
    "pops.iloc[:5][['POPESTIMATE2018', 'POPESTIMATE2019']].mean()"
   ]
  },
  {
   "cell_type": "markdown",
   "metadata": {},
   "source": [
    "### Getting Specific Data"
   ]
  },
  {
   "cell_type": "code",
   "execution_count": 45,
   "metadata": {},
   "outputs": [
    {
     "data": {
      "text/plain": [
       "2058650"
      ]
     },
     "execution_count": 45,
     "metadata": {},
     "output_type": "execute_result"
    }
   ],
   "source": [
    "pops.at['F40', 'POPESTIMATE2019']"
   ]
  },
  {
   "cell_type": "code",
   "execution_count": 46,
   "metadata": {},
   "outputs": [
    {
     "data": {
      "text/plain": [
       "4020254"
      ]
     },
     "execution_count": 46,
     "metadata": {},
     "output_type": "execute_result"
    }
   ],
   "source": [
    "pops.iat[41, 3]"
   ]
  },
  {
   "cell_type": "markdown",
   "metadata": {},
   "source": [
    "### Boolean Selection"
   ]
  },
  {
   "cell_type": "code",
   "execution_count": 47,
   "metadata": {},
   "outputs": [
    {
     "data": {
      "text/html": [
       "<div>\n",
       "<style scoped>\n",
       "    .dataframe tbody tr th:only-of-type {\n",
       "        vertical-align: middle;\n",
       "    }\n",
       "\n",
       "    .dataframe tbody tr th {\n",
       "        vertical-align: top;\n",
       "    }\n",
       "\n",
       "    .dataframe thead th {\n",
       "        text-align: right;\n",
       "    }\n",
       "</style>\n",
       "<table border=\"1\" class=\"dataframe\">\n",
       "  <thead>\n",
       "    <tr style=\"text-align: right;\">\n",
       "      <th></th>\n",
       "      <th>SEX</th>\n",
       "      <th>AGE</th>\n",
       "      <th>POPESTIMATE2018</th>\n",
       "      <th>POPESTIMATE2019</th>\n",
       "    </tr>\n",
       "    <tr>\n",
       "      <th>SEX_AGE</th>\n",
       "      <th></th>\n",
       "      <th></th>\n",
       "      <th></th>\n",
       "      <th></th>\n",
       "    </tr>\n",
       "  </thead>\n",
       "  <tbody>\n",
       "    <tr>\n",
       "      <th>F0</th>\n",
       "      <td>F</td>\n",
       "      <td>0</td>\n",
       "      <td>1863680</td>\n",
       "      <td>1847935</td>\n",
       "    </tr>\n",
       "    <tr>\n",
       "      <th>F1</th>\n",
       "      <td>F</td>\n",
       "      <td>1</td>\n",
       "      <td>1909808</td>\n",
       "      <td>1871014</td>\n",
       "    </tr>\n",
       "    <tr>\n",
       "      <th>F2</th>\n",
       "      <td>F</td>\n",
       "      <td>2</td>\n",
       "      <td>1949783</td>\n",
       "      <td>1916500</td>\n",
       "    </tr>\n",
       "    <tr>\n",
       "      <th>F3</th>\n",
       "      <td>F</td>\n",
       "      <td>3</td>\n",
       "      <td>1971149</td>\n",
       "      <td>1955655</td>\n",
       "    </tr>\n",
       "    <tr>\n",
       "      <th>F4</th>\n",
       "      <td>F</td>\n",
       "      <td>4</td>\n",
       "      <td>1962288</td>\n",
       "      <td>1976372</td>\n",
       "    </tr>\n",
       "    <tr>\n",
       "      <th>...</th>\n",
       "      <td>...</td>\n",
       "      <td>...</td>\n",
       "      <td>...</td>\n",
       "      <td>...</td>\n",
       "    </tr>\n",
       "    <tr>\n",
       "      <th>F96</th>\n",
       "      <td>F</td>\n",
       "      <td>96</td>\n",
       "      <td>108573</td>\n",
       "      <td>111417</td>\n",
       "    </tr>\n",
       "    <tr>\n",
       "      <th>F97</th>\n",
       "      <td>F</td>\n",
       "      <td>97</td>\n",
       "      <td>82100</td>\n",
       "      <td>84358</td>\n",
       "    </tr>\n",
       "    <tr>\n",
       "      <th>F98</th>\n",
       "      <td>F</td>\n",
       "      <td>98</td>\n",
       "      <td>57593</td>\n",
       "      <td>62607</td>\n",
       "    </tr>\n",
       "    <tr>\n",
       "      <th>F99</th>\n",
       "      <td>F</td>\n",
       "      <td>99</td>\n",
       "      <td>39576</td>\n",
       "      <td>42528</td>\n",
       "    </tr>\n",
       "    <tr>\n",
       "      <th>F100</th>\n",
       "      <td>F</td>\n",
       "      <td>100</td>\n",
       "      <td>72153</td>\n",
       "      <td>76850</td>\n",
       "    </tr>\n",
       "  </tbody>\n",
       "</table>\n",
       "<p>101 rows × 4 columns</p>\n",
       "</div>"
      ],
      "text/plain": [
       "        SEX  AGE  POPESTIMATE2018  POPESTIMATE2019\n",
       "SEX_AGE                                           \n",
       "F0        F    0          1863680          1847935\n",
       "F1        F    1          1909808          1871014\n",
       "F2        F    2          1949783          1916500\n",
       "F3        F    3          1971149          1955655\n",
       "F4        F    4          1962288          1976372\n",
       "...      ..  ...              ...              ...\n",
       "F96       F   96           108573           111417\n",
       "F97       F   97            82100            84358\n",
       "F98       F   98            57593            62607\n",
       "F99       F   99            39576            42528\n",
       "F100      F  100            72153            76850\n",
       "\n",
       "[101 rows x 4 columns]"
      ]
     },
     "execution_count": 47,
     "metadata": {},
     "output_type": "execute_result"
    }
   ],
   "source": [
    "pops[pops.SEX == 'F']"
   ]
  },
  {
   "cell_type": "code",
   "execution_count": 48,
   "metadata": {},
   "outputs": [
    {
     "data": {
      "text/html": [
       "<div>\n",
       "<style scoped>\n",
       "    .dataframe tbody tr th:only-of-type {\n",
       "        vertical-align: middle;\n",
       "    }\n",
       "\n",
       "    .dataframe tbody tr th {\n",
       "        vertical-align: top;\n",
       "    }\n",
       "\n",
       "    .dataframe thead th {\n",
       "        text-align: right;\n",
       "    }\n",
       "</style>\n",
       "<table border=\"1\" class=\"dataframe\">\n",
       "  <thead>\n",
       "    <tr style=\"text-align: right;\">\n",
       "      <th></th>\n",
       "      <th>SEX</th>\n",
       "      <th>AGE</th>\n",
       "      <th>POPESTIMATE2018</th>\n",
       "      <th>POPESTIMATE2019</th>\n",
       "    </tr>\n",
       "    <tr>\n",
       "      <th>SEX_AGE</th>\n",
       "      <th></th>\n",
       "      <th></th>\n",
       "      <th></th>\n",
       "      <th></th>\n",
       "    </tr>\n",
       "  </thead>\n",
       "  <tbody>\n",
       "    <tr>\n",
       "      <th>M0</th>\n",
       "      <td>M</td>\n",
       "      <td>0</td>\n",
       "      <td>1951663</td>\n",
       "      <td>1935117</td>\n",
       "    </tr>\n",
       "    <tr>\n",
       "      <th>M1</th>\n",
       "      <td>M</td>\n",
       "      <td>1</td>\n",
       "      <td>1999022</td>\n",
       "      <td>1958585</td>\n",
       "    </tr>\n",
       "    <tr>\n",
       "      <th>M2</th>\n",
       "      <td>M</td>\n",
       "      <td>2</td>\n",
       "      <td>2037249</td>\n",
       "      <td>2005544</td>\n",
       "    </tr>\n",
       "    <tr>\n",
       "      <th>M3</th>\n",
       "      <td>M</td>\n",
       "      <td>3</td>\n",
       "      <td>2061889</td>\n",
       "      <td>2043010</td>\n",
       "    </tr>\n",
       "    <tr>\n",
       "      <th>M4</th>\n",
       "      <td>M</td>\n",
       "      <td>4</td>\n",
       "      <td>2056431</td>\n",
       "      <td>2066951</td>\n",
       "    </tr>\n",
       "    <tr>\n",
       "      <th>...</th>\n",
       "      <td>...</td>\n",
       "      <td>...</td>\n",
       "      <td>...</td>\n",
       "      <td>...</td>\n",
       "    </tr>\n",
       "    <tr>\n",
       "      <th>F96</th>\n",
       "      <td>F</td>\n",
       "      <td>96</td>\n",
       "      <td>108573</td>\n",
       "      <td>111417</td>\n",
       "    </tr>\n",
       "    <tr>\n",
       "      <th>F97</th>\n",
       "      <td>F</td>\n",
       "      <td>97</td>\n",
       "      <td>82100</td>\n",
       "      <td>84358</td>\n",
       "    </tr>\n",
       "    <tr>\n",
       "      <th>F98</th>\n",
       "      <td>F</td>\n",
       "      <td>98</td>\n",
       "      <td>57593</td>\n",
       "      <td>62607</td>\n",
       "    </tr>\n",
       "    <tr>\n",
       "      <th>F99</th>\n",
       "      <td>F</td>\n",
       "      <td>99</td>\n",
       "      <td>39576</td>\n",
       "      <td>42528</td>\n",
       "    </tr>\n",
       "    <tr>\n",
       "      <th>F100</th>\n",
       "      <td>F</td>\n",
       "      <td>100</td>\n",
       "      <td>72153</td>\n",
       "      <td>76850</td>\n",
       "    </tr>\n",
       "  </tbody>\n",
       "</table>\n",
       "<p>202 rows × 4 columns</p>\n",
       "</div>"
      ],
      "text/plain": [
       "        SEX  AGE  POPESTIMATE2018  POPESTIMATE2019\n",
       "SEX_AGE                                           \n",
       "M0        M    0          1951663          1935117\n",
       "M1        M    1          1999022          1958585\n",
       "M2        M    2          2037249          2005544\n",
       "M3        M    3          2061889          2043010\n",
       "M4        M    4          2056431          2066951\n",
       "...      ..  ...              ...              ...\n",
       "F96       F   96           108573           111417\n",
       "F97       F   97            82100            84358\n",
       "F98       F   98            57593            62607\n",
       "F99       F   99            39576            42528\n",
       "F100      F  100            72153            76850\n",
       "\n",
       "[202 rows x 4 columns]"
      ]
     },
     "execution_count": 48,
     "metadata": {},
     "output_type": "execute_result"
    }
   ],
   "source": [
    "pops[(pops.SEX == 'M') | (pops.SEX == 'F')]"
   ]
  },
  {
   "cell_type": "code",
   "execution_count": 49,
   "metadata": {},
   "outputs": [
    {
     "data": {
      "text/html": [
       "<div>\n",
       "<style scoped>\n",
       "    .dataframe tbody tr th:only-of-type {\n",
       "        vertical-align: middle;\n",
       "    }\n",
       "\n",
       "    .dataframe tbody tr th {\n",
       "        vertical-align: top;\n",
       "    }\n",
       "\n",
       "    .dataframe thead th {\n",
       "        text-align: right;\n",
       "    }\n",
       "</style>\n",
       "<table border=\"1\" class=\"dataframe\">\n",
       "  <thead>\n",
       "    <tr style=\"text-align: right;\">\n",
       "      <th></th>\n",
       "      <th>SEX</th>\n",
       "      <th>AGE</th>\n",
       "      <th>POPESTIMATE2018</th>\n",
       "      <th>POPESTIMATE2019</th>\n",
       "    </tr>\n",
       "    <tr>\n",
       "      <th>SEX_AGE</th>\n",
       "      <th></th>\n",
       "      <th></th>\n",
       "      <th></th>\n",
       "      <th></th>\n",
       "    </tr>\n",
       "  </thead>\n",
       "  <tbody>\n",
       "    <tr>\n",
       "      <th>F66</th>\n",
       "      <td>F</td>\n",
       "      <td>66</td>\n",
       "      <td>1855724</td>\n",
       "      <td>1914181</td>\n",
       "    </tr>\n",
       "    <tr>\n",
       "      <th>F67</th>\n",
       "      <td>F</td>\n",
       "      <td>67</td>\n",
       "      <td>1801724</td>\n",
       "      <td>1836574</td>\n",
       "    </tr>\n",
       "    <tr>\n",
       "      <th>F68</th>\n",
       "      <td>F</td>\n",
       "      <td>68</td>\n",
       "      <td>1754148</td>\n",
       "      <td>1781346</td>\n",
       "    </tr>\n",
       "    <tr>\n",
       "      <th>F69</th>\n",
       "      <td>F</td>\n",
       "      <td>69</td>\n",
       "      <td>1697549</td>\n",
       "      <td>1731958</td>\n",
       "    </tr>\n",
       "    <tr>\n",
       "      <th>F70</th>\n",
       "      <td>F</td>\n",
       "      <td>70</td>\n",
       "      <td>1672708</td>\n",
       "      <td>1674584</td>\n",
       "    </tr>\n",
       "    <tr>\n",
       "      <th>...</th>\n",
       "      <td>...</td>\n",
       "      <td>...</td>\n",
       "      <td>...</td>\n",
       "      <td>...</td>\n",
       "    </tr>\n",
       "    <tr>\n",
       "      <th>F96</th>\n",
       "      <td>F</td>\n",
       "      <td>96</td>\n",
       "      <td>108573</td>\n",
       "      <td>111417</td>\n",
       "    </tr>\n",
       "    <tr>\n",
       "      <th>F97</th>\n",
       "      <td>F</td>\n",
       "      <td>97</td>\n",
       "      <td>82100</td>\n",
       "      <td>84358</td>\n",
       "    </tr>\n",
       "    <tr>\n",
       "      <th>F98</th>\n",
       "      <td>F</td>\n",
       "      <td>98</td>\n",
       "      <td>57593</td>\n",
       "      <td>62607</td>\n",
       "    </tr>\n",
       "    <tr>\n",
       "      <th>F99</th>\n",
       "      <td>F</td>\n",
       "      <td>99</td>\n",
       "      <td>39576</td>\n",
       "      <td>42528</td>\n",
       "    </tr>\n",
       "    <tr>\n",
       "      <th>F100</th>\n",
       "      <td>F</td>\n",
       "      <td>100</td>\n",
       "      <td>72153</td>\n",
       "      <td>76850</td>\n",
       "    </tr>\n",
       "  </tbody>\n",
       "</table>\n",
       "<p>35 rows × 4 columns</p>\n",
       "</div>"
      ],
      "text/plain": [
       "        SEX  AGE  POPESTIMATE2018  POPESTIMATE2019\n",
       "SEX_AGE                                           \n",
       "F66       F   66          1855724          1914181\n",
       "F67       F   67          1801724          1836574\n",
       "F68       F   68          1754148          1781346\n",
       "F69       F   69          1697549          1731958\n",
       "F70       F   70          1672708          1674584\n",
       "...      ..  ...              ...              ...\n",
       "F96       F   96           108573           111417\n",
       "F97       F   97            82100            84358\n",
       "F98       F   98            57593            62607\n",
       "F99       F   99            39576            42528\n",
       "F100      F  100            72153            76850\n",
       "\n",
       "[35 rows x 4 columns]"
      ]
     },
     "execution_count": 49,
     "metadata": {},
     "output_type": "execute_result"
    }
   ],
   "source": [
    "pops[(pops.SEX == 'F') & (pops.AGE > 65)]"
   ]
  },
  {
   "cell_type": "markdown",
   "metadata": {},
   "source": [
    "### Filtering a DataFrame with a Boolean Series"
   ]
  },
  {
   "cell_type": "code",
   "execution_count": 50,
   "metadata": {},
   "outputs": [
    {
     "data": {
      "text/plain": [
       "SEX_AGE\n",
       "T0       True\n",
       "T1       True\n",
       "T2       True\n",
       "T3       True\n",
       "T4      False\n",
       "        ...  \n",
       "F96     False\n",
       "F97     False\n",
       "F98     False\n",
       "F99     False\n",
       "F100    False\n",
       "Length: 303, dtype: bool"
      ]
     },
     "execution_count": 50,
     "metadata": {},
     "output_type": "execute_result"
    }
   ],
   "source": [
    "(pops.POPESTIMATE2018 > pops.POPESTIMATE2019) & (pops.SEX == 'T')"
   ]
  },
  {
   "cell_type": "code",
   "execution_count": 51,
   "metadata": {},
   "outputs": [
    {
     "data": {
      "text/html": [
       "<div>\n",
       "<style scoped>\n",
       "    .dataframe tbody tr th:only-of-type {\n",
       "        vertical-align: middle;\n",
       "    }\n",
       "\n",
       "    .dataframe tbody tr th {\n",
       "        vertical-align: top;\n",
       "    }\n",
       "\n",
       "    .dataframe thead th {\n",
       "        text-align: right;\n",
       "    }\n",
       "</style>\n",
       "<table border=\"1\" class=\"dataframe\">\n",
       "  <thead>\n",
       "    <tr style=\"text-align: right;\">\n",
       "      <th></th>\n",
       "      <th>SEX</th>\n",
       "      <th>AGE</th>\n",
       "      <th>POPESTIMATE2018</th>\n",
       "      <th>POPESTIMATE2019</th>\n",
       "    </tr>\n",
       "    <tr>\n",
       "      <th>SEX_AGE</th>\n",
       "      <th></th>\n",
       "      <th></th>\n",
       "      <th></th>\n",
       "      <th></th>\n",
       "    </tr>\n",
       "  </thead>\n",
       "  <tbody>\n",
       "    <tr>\n",
       "      <th>T0</th>\n",
       "      <td>T</td>\n",
       "      <td>0</td>\n",
       "      <td>3815343</td>\n",
       "      <td>3783052</td>\n",
       "    </tr>\n",
       "    <tr>\n",
       "      <th>T1</th>\n",
       "      <td>T</td>\n",
       "      <td>1</td>\n",
       "      <td>3908830</td>\n",
       "      <td>3829599</td>\n",
       "    </tr>\n",
       "    <tr>\n",
       "      <th>T2</th>\n",
       "      <td>T</td>\n",
       "      <td>2</td>\n",
       "      <td>3987032</td>\n",
       "      <td>3922044</td>\n",
       "    </tr>\n",
       "    <tr>\n",
       "      <th>T3</th>\n",
       "      <td>T</td>\n",
       "      <td>3</td>\n",
       "      <td>4033038</td>\n",
       "      <td>3998665</td>\n",
       "    </tr>\n",
       "    <tr>\n",
       "      <th>T7</th>\n",
       "      <td>T</td>\n",
       "      <td>7</td>\n",
       "      <td>4058370</td>\n",
       "      <td>4022319</td>\n",
       "    </tr>\n",
       "    <tr>\n",
       "      <th>...</th>\n",
       "      <td>...</td>\n",
       "      <td>...</td>\n",
       "      <td>...</td>\n",
       "      <td>...</td>\n",
       "    </tr>\n",
       "    <tr>\n",
       "      <th>T75</th>\n",
       "      <td>T</td>\n",
       "      <td>75</td>\n",
       "      <td>2288885</td>\n",
       "      <td>2198286</td>\n",
       "    </tr>\n",
       "    <tr>\n",
       "      <th>T85</th>\n",
       "      <td>T</td>\n",
       "      <td>85</td>\n",
       "      <td>932507</td>\n",
       "      <td>922467</td>\n",
       "    </tr>\n",
       "    <tr>\n",
       "      <th>T87</th>\n",
       "      <td>T</td>\n",
       "      <td>87</td>\n",
       "      <td>781145</td>\n",
       "      <td>778923</td>\n",
       "    </tr>\n",
       "    <tr>\n",
       "      <th>T88</th>\n",
       "      <td>T</td>\n",
       "      <td>88</td>\n",
       "      <td>714808</td>\n",
       "      <td>703078</td>\n",
       "    </tr>\n",
       "    <tr>\n",
       "      <th>T90</th>\n",
       "      <td>T</td>\n",
       "      <td>90</td>\n",
       "      <td>539372</td>\n",
       "      <td>536447</td>\n",
       "    </tr>\n",
       "  </tbody>\n",
       "</table>\n",
       "<p>43 rows × 4 columns</p>\n",
       "</div>"
      ],
      "text/plain": [
       "        SEX  AGE  POPESTIMATE2018  POPESTIMATE2019\n",
       "SEX_AGE                                           \n",
       "T0        T    0          3815343          3783052\n",
       "T1        T    1          3908830          3829599\n",
       "T2        T    2          3987032          3922044\n",
       "T3        T    3          4033038          3998665\n",
       "T7        T    7          4058370          4022319\n",
       "...      ..  ...              ...              ...\n",
       "T75       T   75          2288885          2198286\n",
       "T85       T   85           932507           922467\n",
       "T87       T   87           781145           778923\n",
       "T88       T   88           714808           703078\n",
       "T90       T   90           539372           536447\n",
       "\n",
       "[43 rows x 4 columns]"
      ]
     },
     "execution_count": 51,
     "metadata": {},
     "output_type": "execute_result"
    }
   ],
   "source": [
    "pops[(pops.POPESTIMATE2018 > pops.POPESTIMATE2019) & (pops.SEX == 'T')]"
   ]
  },
  {
   "cell_type": "markdown",
   "metadata": {},
   "source": [
    "### Pivoting a DataFrame"
   ]
  },
  {
   "cell_type": "code",
   "execution_count": 52,
   "metadata": {},
   "outputs": [
    {
     "data": {
      "text/html": [
       "<div>\n",
       "<style scoped>\n",
       "    .dataframe tbody tr th:only-of-type {\n",
       "        vertical-align: middle;\n",
       "    }\n",
       "\n",
       "    .dataframe tbody tr th {\n",
       "        vertical-align: top;\n",
       "    }\n",
       "\n",
       "    .dataframe thead th {\n",
       "        text-align: right;\n",
       "    }\n",
       "</style>\n",
       "<table border=\"1\" class=\"dataframe\">\n",
       "  <thead>\n",
       "    <tr style=\"text-align: right;\">\n",
       "      <th>SEX</th>\n",
       "      <th>F</th>\n",
       "      <th>M</th>\n",
       "      <th>T</th>\n",
       "    </tr>\n",
       "    <tr>\n",
       "      <th>AGE</th>\n",
       "      <th></th>\n",
       "      <th></th>\n",
       "      <th></th>\n",
       "    </tr>\n",
       "  </thead>\n",
       "  <tbody>\n",
       "    <tr>\n",
       "      <th>0</th>\n",
       "      <td>1847935</td>\n",
       "      <td>1935117</td>\n",
       "      <td>3783052</td>\n",
       "    </tr>\n",
       "    <tr>\n",
       "      <th>1</th>\n",
       "      <td>1871014</td>\n",
       "      <td>1958585</td>\n",
       "      <td>3829599</td>\n",
       "    </tr>\n",
       "    <tr>\n",
       "      <th>2</th>\n",
       "      <td>1916500</td>\n",
       "      <td>2005544</td>\n",
       "      <td>3922044</td>\n",
       "    </tr>\n",
       "    <tr>\n",
       "      <th>3</th>\n",
       "      <td>1955655</td>\n",
       "      <td>2043010</td>\n",
       "      <td>3998665</td>\n",
       "    </tr>\n",
       "    <tr>\n",
       "      <th>4</th>\n",
       "      <td>1976372</td>\n",
       "      <td>2066951</td>\n",
       "      <td>4043323</td>\n",
       "    </tr>\n",
       "    <tr>\n",
       "      <th>...</th>\n",
       "      <td>...</td>\n",
       "      <td>...</td>\n",
       "      <td>...</td>\n",
       "    </tr>\n",
       "    <tr>\n",
       "      <th>96</th>\n",
       "      <td>111417</td>\n",
       "      <td>46046</td>\n",
       "      <td>157463</td>\n",
       "    </tr>\n",
       "    <tr>\n",
       "      <th>97</th>\n",
       "      <td>84358</td>\n",
       "      <td>32611</td>\n",
       "      <td>116969</td>\n",
       "    </tr>\n",
       "    <tr>\n",
       "      <th>98</th>\n",
       "      <td>62607</td>\n",
       "      <td>23543</td>\n",
       "      <td>86150</td>\n",
       "    </tr>\n",
       "    <tr>\n",
       "      <th>99</th>\n",
       "      <td>42528</td>\n",
       "      <td>14596</td>\n",
       "      <td>57124</td>\n",
       "    </tr>\n",
       "    <tr>\n",
       "      <th>100</th>\n",
       "      <td>76850</td>\n",
       "      <td>23472</td>\n",
       "      <td>100322</td>\n",
       "    </tr>\n",
       "  </tbody>\n",
       "</table>\n",
       "<p>101 rows × 3 columns</p>\n",
       "</div>"
      ],
      "text/plain": [
       "SEX        F        M        T\n",
       "AGE                           \n",
       "0    1847935  1935117  3783052\n",
       "1    1871014  1958585  3829599\n",
       "2    1916500  2005544  3922044\n",
       "3    1955655  2043010  3998665\n",
       "4    1976372  2066951  4043323\n",
       "..       ...      ...      ...\n",
       "96    111417    46046   157463\n",
       "97     84358    32611   116969\n",
       "98     62607    23543    86150\n",
       "99     42528    14596    57124\n",
       "100    76850    23472   100322\n",
       "\n",
       "[101 rows x 3 columns]"
      ]
     },
     "execution_count": 52,
     "metadata": {},
     "output_type": "execute_result"
    }
   ],
   "source": [
    "pops2 = pops.pivot(index='AGE', columns = 'SEX', values='POPESTIMATE2019')\n",
    "pops2"
   ]
  },
  {
   "cell_type": "markdown",
   "metadata": {},
   "source": [
    "#### For which ages were there more females than males in 2019?"
   ]
  },
  {
   "cell_type": "code",
   "execution_count": 53,
   "metadata": {},
   "outputs": [
    {
     "data": {
      "text/html": [
       "<div>\n",
       "<style scoped>\n",
       "    .dataframe tbody tr th:only-of-type {\n",
       "        vertical-align: middle;\n",
       "    }\n",
       "\n",
       "    .dataframe tbody tr th {\n",
       "        vertical-align: top;\n",
       "    }\n",
       "\n",
       "    .dataframe thead th {\n",
       "        text-align: right;\n",
       "    }\n",
       "</style>\n",
       "<table border=\"1\" class=\"dataframe\">\n",
       "  <thead>\n",
       "    <tr style=\"text-align: right;\">\n",
       "      <th>SEX</th>\n",
       "      <th>F</th>\n",
       "      <th>M</th>\n",
       "      <th>T</th>\n",
       "      <th>DIFF</th>\n",
       "    </tr>\n",
       "    <tr>\n",
       "      <th>AGE</th>\n",
       "      <th></th>\n",
       "      <th></th>\n",
       "      <th></th>\n",
       "      <th></th>\n",
       "    </tr>\n",
       "  </thead>\n",
       "  <tbody>\n",
       "    <tr>\n",
       "      <th>38</th>\n",
       "      <td>2156217</td>\n",
       "      <td>2149359</td>\n",
       "      <td>4305576</td>\n",
       "      <td>6858</td>\n",
       "    </tr>\n",
       "    <tr>\n",
       "      <th>40</th>\n",
       "      <td>2058650</td>\n",
       "      <td>2046663</td>\n",
       "      <td>4105313</td>\n",
       "      <td>11987</td>\n",
       "    </tr>\n",
       "    <tr>\n",
       "      <th>41</th>\n",
       "      <td>2018752</td>\n",
       "      <td>2001502</td>\n",
       "      <td>4020254</td>\n",
       "      <td>17250</td>\n",
       "    </tr>\n",
       "    <tr>\n",
       "      <th>42</th>\n",
       "      <td>2002157</td>\n",
       "      <td>1972584</td>\n",
       "      <td>3974741</td>\n",
       "      <td>29573</td>\n",
       "    </tr>\n",
       "    <tr>\n",
       "      <th>43</th>\n",
       "      <td>1940751</td>\n",
       "      <td>1913289</td>\n",
       "      <td>3854040</td>\n",
       "      <td>27462</td>\n",
       "    </tr>\n",
       "    <tr>\n",
       "      <th>...</th>\n",
       "      <td>...</td>\n",
       "      <td>...</td>\n",
       "      <td>...</td>\n",
       "      <td>...</td>\n",
       "    </tr>\n",
       "    <tr>\n",
       "      <th>96</th>\n",
       "      <td>111417</td>\n",
       "      <td>46046</td>\n",
       "      <td>157463</td>\n",
       "      <td>65371</td>\n",
       "    </tr>\n",
       "    <tr>\n",
       "      <th>97</th>\n",
       "      <td>84358</td>\n",
       "      <td>32611</td>\n",
       "      <td>116969</td>\n",
       "      <td>51747</td>\n",
       "    </tr>\n",
       "    <tr>\n",
       "      <th>98</th>\n",
       "      <td>62607</td>\n",
       "      <td>23543</td>\n",
       "      <td>86150</td>\n",
       "      <td>39064</td>\n",
       "    </tr>\n",
       "    <tr>\n",
       "      <th>99</th>\n",
       "      <td>42528</td>\n",
       "      <td>14596</td>\n",
       "      <td>57124</td>\n",
       "      <td>27932</td>\n",
       "    </tr>\n",
       "    <tr>\n",
       "      <th>100</th>\n",
       "      <td>76850</td>\n",
       "      <td>23472</td>\n",
       "      <td>100322</td>\n",
       "      <td>53378</td>\n",
       "    </tr>\n",
       "  </tbody>\n",
       "</table>\n",
       "<p>62 rows × 4 columns</p>\n",
       "</div>"
      ],
      "text/plain": [
       "SEX        F        M        T   DIFF\n",
       "AGE                                  \n",
       "38   2156217  2149359  4305576   6858\n",
       "40   2058650  2046663  4105313  11987\n",
       "41   2018752  2001502  4020254  17250\n",
       "42   2002157  1972584  3974741  29573\n",
       "43   1940751  1913289  3854040  27462\n",
       "..       ...      ...      ...    ...\n",
       "96    111417    46046   157463  65371\n",
       "97     84358    32611   116969  51747\n",
       "98     62607    23543    86150  39064\n",
       "99     42528    14596    57124  27932\n",
       "100    76850    23472   100322  53378\n",
       "\n",
       "[62 rows x 4 columns]"
      ]
     },
     "execution_count": 53,
     "metadata": {},
     "output_type": "execute_result"
    }
   ],
   "source": [
    "pops2['DIFF'] = pops2.F - pops2.M\n",
    "pops2[pops2.F > pops2.M]"
   ]
  },
  {
   "cell_type": "code",
   "execution_count": 75,
   "metadata": {},
   "outputs": [
    {
     "data": {
      "text/plain": [
       "AGE\n",
       "0      0.954947\n",
       "10     0.960123\n",
       "20     0.955754\n",
       "30     0.971230\n",
       "40     1.005857\n",
       "         ...   \n",
       "60     1.071764\n",
       "70     1.145312\n",
       "80     1.292093\n",
       "90     1.805392\n",
       "100    3.274114\n",
       "Length: 11, dtype: float64"
      ]
     },
     "execution_count": 75,
     "metadata": {},
     "output_type": "execute_result"
    }
   ],
   "source": [
    "(pops2['F'] / pops2['M']).iloc[range(0, 101, 10)]"
   ]
  },
  {
   "cell_type": "code",
   "execution_count": 79,
   "metadata": {},
   "outputs": [
    {
     "data": {
      "text/plain": [
       "AGE\n",
       "91     1.902753\n",
       "92     1.992520\n",
       "93     2.101919\n",
       "94     2.227101\n",
       "95     2.340420\n",
       "96     2.419689\n",
       "97     2.586796\n",
       "98     2.659262\n",
       "99     2.913675\n",
       "100    3.274114\n",
       "dtype: float64"
      ]
     },
     "execution_count": 79,
     "metadata": {},
     "output_type": "execute_result"
    }
   ],
   "source": [
    "(pops2['F'] / pops2['M']).iloc[-10:]"
   ]
  },
  {
   "cell_type": "markdown",
   "metadata": {},
   "source": [
    "### Common Gotcha"
   ]
  },
  {
   "cell_type": "code",
   "execution_count": 54,
   "metadata": {},
   "outputs": [
    {
     "data": {
      "text/plain": [
       "(pandas.core.series.Series,\n",
       " pandas.core.series.Series,\n",
       " pandas.core.series.Series)"
      ]
     },
     "execution_count": 54,
     "metadata": {},
     "output_type": "execute_result"
    }
   ],
   "source": [
    "type(pops2['F']), type(pops2['M']), type(pops2['T'])"
   ]
  },
  {
   "cell_type": "code",
   "execution_count": 55,
   "metadata": {},
   "outputs": [
    {
     "data": {
      "text/plain": [
       "(pandas.core.series.Series,\n",
       " pandas.core.series.Series,\n",
       " pandas.core.frame.DataFrame)"
      ]
     },
     "execution_count": 55,
     "metadata": {},
     "output_type": "execute_result"
    }
   ],
   "source": [
    "type(pops2.F), type(pops2.M), type(pops2.T)"
   ]
  },
  {
   "cell_type": "code",
   "execution_count": 80,
   "metadata": {},
   "outputs": [
    {
     "data": {
      "text/plain": [
       "AGE\n",
       "0      3783052\n",
       "1      3829599\n",
       "2      3922044\n",
       "        ...   \n",
       "98       86150\n",
       "99       57124\n",
       "100     100322\n",
       "Name: T, Length: 101, dtype: int64"
      ]
     },
     "execution_count": 80,
     "metadata": {},
     "output_type": "execute_result"
    }
   ],
   "source": [
    "pd.set_option('display.max_columns', 6)\n",
    "pd.set_option('display.max_rows', 6)\n",
    "pops2['T']"
   ]
  },
  {
   "cell_type": "code",
   "execution_count": 81,
   "metadata": {},
   "outputs": [
    {
     "data": {
      "text/html": [
       "<div>\n",
       "<style scoped>\n",
       "    .dataframe tbody tr th:only-of-type {\n",
       "        vertical-align: middle;\n",
       "    }\n",
       "\n",
       "    .dataframe tbody tr th {\n",
       "        vertical-align: top;\n",
       "    }\n",
       "\n",
       "    .dataframe thead th {\n",
       "        text-align: right;\n",
       "    }\n",
       "</style>\n",
       "<table border=\"1\" class=\"dataframe\">\n",
       "  <thead>\n",
       "    <tr style=\"text-align: right;\">\n",
       "      <th>AGE</th>\n",
       "      <th>0</th>\n",
       "      <th>1</th>\n",
       "      <th>2</th>\n",
       "      <th>...</th>\n",
       "      <th>98</th>\n",
       "      <th>99</th>\n",
       "      <th>100</th>\n",
       "    </tr>\n",
       "    <tr>\n",
       "      <th>SEX</th>\n",
       "      <th></th>\n",
       "      <th></th>\n",
       "      <th></th>\n",
       "      <th></th>\n",
       "      <th></th>\n",
       "      <th></th>\n",
       "      <th></th>\n",
       "    </tr>\n",
       "  </thead>\n",
       "  <tbody>\n",
       "    <tr>\n",
       "      <th>F</th>\n",
       "      <td>1847935</td>\n",
       "      <td>1871014</td>\n",
       "      <td>1916500</td>\n",
       "      <td>...</td>\n",
       "      <td>62607</td>\n",
       "      <td>42528</td>\n",
       "      <td>76850</td>\n",
       "    </tr>\n",
       "    <tr>\n",
       "      <th>M</th>\n",
       "      <td>1935117</td>\n",
       "      <td>1958585</td>\n",
       "      <td>2005544</td>\n",
       "      <td>...</td>\n",
       "      <td>23543</td>\n",
       "      <td>14596</td>\n",
       "      <td>23472</td>\n",
       "    </tr>\n",
       "    <tr>\n",
       "      <th>T</th>\n",
       "      <td>3783052</td>\n",
       "      <td>3829599</td>\n",
       "      <td>3922044</td>\n",
       "      <td>...</td>\n",
       "      <td>86150</td>\n",
       "      <td>57124</td>\n",
       "      <td>100322</td>\n",
       "    </tr>\n",
       "    <tr>\n",
       "      <th>DIFF</th>\n",
       "      <td>-87182</td>\n",
       "      <td>-87571</td>\n",
       "      <td>-89044</td>\n",
       "      <td>...</td>\n",
       "      <td>39064</td>\n",
       "      <td>27932</td>\n",
       "      <td>53378</td>\n",
       "    </tr>\n",
       "  </tbody>\n",
       "</table>\n",
       "<p>4 rows × 101 columns</p>\n",
       "</div>"
      ],
      "text/plain": [
       "AGE       0        1        2    ...    98     99      100\n",
       "SEX                              ...                      \n",
       "F     1847935  1871014  1916500  ...  62607  42528   76850\n",
       "M     1935117  1958585  2005544  ...  23543  14596   23472\n",
       "T     3783052  3829599  3922044  ...  86150  57124  100322\n",
       "DIFF   -87182   -87571   -89044  ...  39064  27932   53378\n",
       "\n",
       "[4 rows x 101 columns]"
      ]
     },
     "execution_count": 81,
     "metadata": {},
     "output_type": "execute_result"
    }
   ],
   "source": [
    "pops2.T"
   ]
  },
  {
   "cell_type": "code",
   "execution_count": 58,
   "metadata": {},
   "outputs": [
    {
     "data": {
      "text/plain": [
       "\u001b[1;31mType:\u001b[0m        property\n",
       "\u001b[1;31mString form:\u001b[0m <property object at 0x134E26E0>\n",
       "\u001b[1;31mDocstring:\u001b[0m  \n",
       "Transpose index and columns.\n",
       "\n",
       "Reflect the DataFrame over its main diagonal by writing rows as columns\n",
       "and vice-versa. The property :attr:`.T` is an accessor to the method\n",
       ":meth:`transpose`.\n",
       "\n",
       "Parameters\n",
       "----------\n",
       "*args : tuple, optional\n",
       "    Accepted for compatibility with NumPy.\n",
       "copy : bool, default False\n",
       "    Whether to copy the data after transposing, even for DataFrames\n",
       "    with a single dtype.\n",
       "\n",
       "    Note that a copy is always required for mixed dtype DataFrames,\n",
       "    or for DataFrames with any extension types.\n",
       "\n",
       "Returns\n",
       "-------\n",
       "DataFrame\n",
       "    The transposed DataFrame.\n",
       "\n",
       "See Also\n",
       "--------\n",
       "numpy.transpose : Permute the dimensions of a given array.\n",
       "\n",
       "Notes\n",
       "-----\n",
       "Transposing a DataFrame with mixed dtypes will result in a homogeneous\n",
       "DataFrame with the `object` dtype. In such a case, a copy of the data\n",
       "is always made.\n",
       "\n",
       "Examples\n",
       "--------\n",
       "**Square DataFrame with homogeneous dtype**\n",
       "\n",
       ">>> d1 = {'col1': [1, 2], 'col2': [3, 4]}\n",
       ">>> df1 = pd.DataFrame(data=d1)\n",
       ">>> df1\n",
       "   col1  col2\n",
       "0     1     3\n",
       "1     2     4\n",
       "\n",
       ">>> df1_transposed = df1.T # or df1.transpose()\n",
       ">>> df1_transposed\n",
       "      0  1\n",
       "col1  1  2\n",
       "col2  3  4\n",
       "\n",
       "When the dtype is homogeneous in the original DataFrame, we get a\n",
       "transposed DataFrame with the same dtype:\n",
       "\n",
       ">>> df1.dtypes\n",
       "col1    int64\n",
       "col2    int64\n",
       "dtype: object\n",
       ">>> df1_transposed.dtypes\n",
       "0    int64\n",
       "1    int64\n",
       "dtype: object\n",
       "\n",
       "**Non-square DataFrame with mixed dtypes**\n",
       "\n",
       ">>> d2 = {'name': ['Alice', 'Bob'],\n",
       "...       'score': [9.5, 8],\n",
       "...       'employed': [False, True],\n",
       "...       'kids': [0, 0]}\n",
       ">>> df2 = pd.DataFrame(data=d2)\n",
       ">>> df2\n",
       "    name  score  employed  kids\n",
       "0  Alice    9.5     False     0\n",
       "1    Bob    8.0      True     0\n",
       "\n",
       ">>> df2_transposed = df2.T # or df2.transpose()\n",
       ">>> df2_transposed\n",
       "              0     1\n",
       "name      Alice   Bob\n",
       "score       9.5     8\n",
       "employed  False  True\n",
       "kids          0     0\n",
       "\n",
       "When the DataFrame has mixed dtypes, we get a transposed DataFrame with\n",
       "the `object` dtype:\n",
       "\n",
       ">>> df2.dtypes\n",
       "name         object\n",
       "score       float64\n",
       "employed       bool\n",
       "kids          int64\n",
       "dtype: object\n",
       ">>> df2_transposed.dtypes\n",
       "0    object\n",
       "1    object\n",
       "dtype: object\n"
      ]
     },
     "metadata": {},
     "output_type": "display_data"
    }
   ],
   "source": [
    "? pops2.T"
   ]
  },
  {
   "cell_type": "markdown",
   "metadata": {},
   "source": [
    "---\n",
    "CSV Source: National Population by Characteristics: 2010-2019\n",
    "\n",
    "https://www.census.gov/data/datasets/time-series/demo/popest/2010s-national-detail.html"
   ]
  }
 ],
 "metadata": {
  "kernelspec": {
   "display_name": "Python 3",
   "language": "python",
   "name": "python3"
  },
  "language_info": {
   "codemirror_mode": {
    "name": "ipython",
    "version": 3
   },
   "file_extension": ".py",
   "mimetype": "text/x-python",
   "name": "python",
   "nbconvert_exporter": "python",
   "pygments_lexer": "ipython3",
   "version": "3.8.2"
  }
 },
 "nbformat": 4,
 "nbformat_minor": 4
}
