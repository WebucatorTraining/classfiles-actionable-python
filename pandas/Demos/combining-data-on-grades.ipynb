{
 "cells": [
  {
   "cell_type": "markdown",
   "metadata": {},
   "source": [
    "# Combining Data on Grades"
   ]
  },
  {
   "cell_type": "code",
   "execution_count": 1,
   "metadata": {},
   "outputs": [],
   "source": [
    "import numpy as np\n",
    "import pandas as pd\n",
    "\n",
    "pd.set_option('display.max_columns', 10)\n",
    "pd.set_option('display.max_rows', 10)"
   ]
  },
  {
   "cell_type": "markdown",
   "metadata": {},
   "source": [
    "### Given: Three Numpy Arrays of Grades"
   ]
  },
  {
   "cell_type": "code",
   "execution_count": 2,
   "metadata": {},
   "outputs": [],
   "source": [
    "rng = np.random.default_rng(seed=42)\n",
    "ar1 = rng.choice(\n",
    "    ['A', 'B', 'C', 'D', 'F'], 100, p=[.2, .4, .29, .08, .03]\n",
    ")\n",
    "ar2 = rng.choice(\n",
    "    ['A', 'B', 'C', 'D', 'F'], 50, p=[.3, .4, .2, .1, 0]\n",
    ")\n",
    "ar3 = rng.choice(\n",
    "    ['a', 'b', 'c', 'd', 'f'], 200, p=[.15, .45, .25, .12, .03]\n",
    ")"
   ]
  },
  {
   "cell_type": "markdown",
   "metadata": {},
   "source": [
    "### Create pandas Series from these Arrays\n",
    "Use the default index for each. Save the series as `s1`, `s2` and `s3`"
   ]
  },
  {
   "cell_type": "code",
   "execution_count": 3,
   "metadata": {
    "collapsed": false,
    "jupyter": {
     "outputs_hidden": false
    }
   },
   "outputs": [],
   "source": [
    "s1 = pd.Series(ar1)\n",
    "s2 = pd.Series(ar2)\n",
    "s3 = pd.Series(ar3)"
   ]
  },
  {
   "cell_type": "markdown",
   "metadata": {},
   "source": [
    "### Get the Value Counts of each of the Series\n",
    "Save the resulting series as `grades1`, `grades2`, and `grades3`"
   ]
  },
  {
   "cell_type": "code",
   "execution_count": 4,
   "metadata": {
    "collapsed": false,
    "jupyter": {
     "outputs_hidden": false
    }
   },
   "outputs": [
    {
     "data": {
      "text/plain": [
       "(B    38\n",
       " C    34\n",
       " A    22\n",
       " D     4\n",
       " F     2\n",
       " dtype: int64,\n",
       " B    24\n",
       " A    14\n",
       " D     6\n",
       " C     6\n",
       " dtype: int64,\n",
       " b    81\n",
       " c    50\n",
       " a    38\n",
       " d    28\n",
       " f     3\n",
       " dtype: int64)"
      ]
     },
     "execution_count": 4,
     "metadata": {},
     "output_type": "execute_result"
    }
   ],
   "source": [
    "grades1 = s1.value_counts()\n",
    "grades2 = s2.value_counts()\n",
    "grades3 = s3.value_counts()\n",
    "grades1, grades2, grades3"
   ]
  },
  {
   "cell_type": "markdown",
   "metadata": {},
   "source": [
    "#### The following code creates the table shown in the manual. You'll learn about `DataFrame`s soon."
   ]
  },
  {
   "cell_type": "code",
   "execution_count": 5,
   "metadata": {},
   "outputs": [
    {
     "data": {
      "text/html": [
       "<div>\n",
       "<style scoped>\n",
       "    .dataframe tbody tr th:only-of-type {\n",
       "        vertical-align: middle;\n",
       "    }\n",
       "\n",
       "    .dataframe tbody tr th {\n",
       "        vertical-align: top;\n",
       "    }\n",
       "\n",
       "    .dataframe thead th {\n",
       "        text-align: right;\n",
       "    }\n",
       "</style>\n",
       "<table border=\"1\" class=\"dataframe\">\n",
       "  <thead>\n",
       "    <tr style=\"text-align: right;\">\n",
       "      <th></th>\n",
       "      <th>grades1</th>\n",
       "      <th>grades2</th>\n",
       "      <th>grades3</th>\n",
       "    </tr>\n",
       "  </thead>\n",
       "  <tbody>\n",
       "    <tr>\n",
       "      <th>A</th>\n",
       "      <td>22.0</td>\n",
       "      <td>14.0</td>\n",
       "      <td>NaN</td>\n",
       "    </tr>\n",
       "    <tr>\n",
       "      <th>B</th>\n",
       "      <td>38.0</td>\n",
       "      <td>24.0</td>\n",
       "      <td>NaN</td>\n",
       "    </tr>\n",
       "    <tr>\n",
       "      <th>C</th>\n",
       "      <td>34.0</td>\n",
       "      <td>6.0</td>\n",
       "      <td>NaN</td>\n",
       "    </tr>\n",
       "    <tr>\n",
       "      <th>D</th>\n",
       "      <td>4.0</td>\n",
       "      <td>6.0</td>\n",
       "      <td>NaN</td>\n",
       "    </tr>\n",
       "    <tr>\n",
       "      <th>F</th>\n",
       "      <td>2.0</td>\n",
       "      <td>NaN</td>\n",
       "      <td>NaN</td>\n",
       "    </tr>\n",
       "    <tr>\n",
       "      <th>a</th>\n",
       "      <td>NaN</td>\n",
       "      <td>NaN</td>\n",
       "      <td>38.0</td>\n",
       "    </tr>\n",
       "    <tr>\n",
       "      <th>b</th>\n",
       "      <td>NaN</td>\n",
       "      <td>NaN</td>\n",
       "      <td>81.0</td>\n",
       "    </tr>\n",
       "    <tr>\n",
       "      <th>c</th>\n",
       "      <td>NaN</td>\n",
       "      <td>NaN</td>\n",
       "      <td>50.0</td>\n",
       "    </tr>\n",
       "    <tr>\n",
       "      <th>d</th>\n",
       "      <td>NaN</td>\n",
       "      <td>NaN</td>\n",
       "      <td>28.0</td>\n",
       "    </tr>\n",
       "    <tr>\n",
       "      <th>f</th>\n",
       "      <td>NaN</td>\n",
       "      <td>NaN</td>\n",
       "      <td>3.0</td>\n",
       "    </tr>\n",
       "  </tbody>\n",
       "</table>\n",
       "</div>"
      ],
      "text/plain": [
       "   grades1  grades2  grades3\n",
       "A     22.0     14.0      NaN\n",
       "B     38.0     24.0      NaN\n",
       "C     34.0      6.0      NaN\n",
       "D      4.0      6.0      NaN\n",
       "F      2.0      NaN      NaN\n",
       "a      NaN      NaN     38.0\n",
       "b      NaN      NaN     81.0\n",
       "c      NaN      NaN     50.0\n",
       "d      NaN      NaN     28.0\n",
       "f      NaN      NaN      3.0"
      ]
     },
     "execution_count": 5,
     "metadata": {},
     "output_type": "execute_result"
    }
   ],
   "source": [
    "pd.DataFrame(\n",
    "{\n",
    "    'grades1': grades1,\n",
    "    'grades2': grades2,\n",
    "    'grades3': grades3,\n",
    "})"
   ]
  },
  {
   "cell_type": "markdown",
   "metadata": {},
   "source": [
    "### Compare the indexes of the three `grades` variables \n",
    "You should see that the index for `grades3` uses lowercase letters, while the other two use uppercase letters."
   ]
  },
  {
   "cell_type": "code",
   "execution_count": 6,
   "metadata": {
    "collapsed": false,
    "jupyter": {
     "outputs_hidden": false
    }
   },
   "outputs": [
    {
     "data": {
      "text/plain": [
       "(Index(['B', 'C', 'A', 'D', 'F'], dtype='object'),\n",
       " Index(['B', 'A', 'D', 'C'], dtype='object'),\n",
       " Index(['b', 'c', 'a', 'd', 'f'], dtype='object'))"
      ]
     },
     "execution_count": 6,
     "metadata": {},
     "output_type": "execute_result"
    }
   ],
   "source": [
    "grades1.index, grades2.index, grades3.index"
   ]
  },
  {
   "cell_type": "markdown",
   "metadata": {},
   "source": [
    "### Reindex `grades3` to use uppercase letters\n",
    "This is a little tricky because the indices are not in alphabetical order. You will need to sort them first, and then set the index for `grades3` to use capital letters.\n",
    "\n",
    "* We only really need to sort `grades1` and `grades2` if we're going to compare them, but we may as well."
   ]
  },
  {
   "cell_type": "code",
   "execution_count": 7,
   "metadata": {
    "collapsed": false,
    "jupyter": {
     "outputs_hidden": false
    }
   },
   "outputs": [
    {
     "data": {
      "text/plain": [
       "Index(['A', 'B', 'C', 'D', 'F'], dtype='object')"
      ]
     },
     "execution_count": 7,
     "metadata": {},
     "output_type": "execute_result"
    }
   ],
   "source": [
    "grades1.sort_index(inplace=True)\n",
    "grades2.sort_index(inplace=True)\n",
    "grades3.sort_index(inplace=True)\n",
    "\n",
    "grades3.index = ['A', 'B', 'C', 'D', 'F']\n",
    "grades3.index"
   ]
  },
  {
   "cell_type": "code",
   "execution_count": 8,
   "metadata": {},
   "outputs": [
    {
     "data": {
      "text/plain": [
       "A    38\n",
       "B    81\n",
       "C    50\n",
       "D    28\n",
       "F     3\n",
       "dtype: int64"
      ]
     },
     "execution_count": 8,
     "metadata": {},
     "output_type": "execute_result"
    }
   ],
   "source": [
    "grades3"
   ]
  },
  {
   "cell_type": "markdown",
   "metadata": {},
   "source": [
    "### Add the three `grades` Series together\n",
    "Don't forget to set the fill value to 0."
   ]
  },
  {
   "cell_type": "code",
   "execution_count": 9,
   "metadata": {
    "collapsed": false,
    "jupyter": {
     "outputs_hidden": false
    }
   },
   "outputs": [
    {
     "data": {
      "text/plain": [
       "A     74.0\n",
       "B    143.0\n",
       "C     90.0\n",
       "D     38.0\n",
       "F      5.0\n",
       "dtype: float64"
      ]
     },
     "execution_count": 9,
     "metadata": {},
     "output_type": "execute_result"
    }
   ],
   "source": [
    "grades_all = grades1.add(grades2, fill_value=0).add(grades3, fill_value=0)\n",
    "grades_all"
   ]
  },
  {
   "cell_type": "markdown",
   "metadata": {},
   "source": [
    "### From `grades_all`, create a `grades_breakout` Series that holds the share of each grade.\n",
    "`grades_breakout.sum()` should equal 1"
   ]
  },
  {
   "cell_type": "code",
   "execution_count": 10,
   "metadata": {
    "collapsed": false,
    "jupyter": {
     "outputs_hidden": false
    }
   },
   "outputs": [
    {
     "data": {
      "text/plain": [
       "(A    0.211429\n",
       " B    0.408571\n",
       " C    0.257143\n",
       " D    0.108571\n",
       " F    0.014286\n",
       " dtype: float64,\n",
       " 0.9999999999999999)"
      ]
     },
     "execution_count": 10,
     "metadata": {},
     "output_type": "execute_result"
    }
   ],
   "source": [
    "grades_breakout = grades_all / grades_all.sum()\n",
    "grades_breakout, grades_breakout.sum()"
   ]
  },
  {
   "cell_type": "markdown",
   "metadata": {},
   "source": [
    "## A different approach: First, change case of values of `s3`."
   ]
  },
  {
   "cell_type": "code",
   "execution_count": 11,
   "metadata": {
    "collapsed": false,
    "jupyter": {
     "outputs_hidden": false
    }
   },
   "outputs": [
    {
     "data": {
      "text/plain": [
       "0      C\n",
       "1      D\n",
       "2      A\n",
       "3      B\n",
       "4      A\n",
       "      ..\n",
       "195    C\n",
       "196    D\n",
       "197    B\n",
       "198    B\n",
       "199    A\n",
       "Length: 200, dtype: object"
      ]
     },
     "execution_count": 11,
     "metadata": {},
     "output_type": "execute_result"
    }
   ],
   "source": [
    "s3 = s3.str.upper()\n",
    "s3"
   ]
  },
  {
   "cell_type": "markdown",
   "metadata": {},
   "source": [
    "### Then combine the Series of grades."
   ]
  },
  {
   "cell_type": "code",
   "execution_count": 12,
   "metadata": {
    "collapsed": false,
    "jupyter": {
     "outputs_hidden": false
    }
   },
   "outputs": [
    {
     "data": {
      "text/plain": [
       "0      C\n",
       "1      B\n",
       "2      C\n",
       "3      C\n",
       "4      A\n",
       "      ..\n",
       "195    C\n",
       "196    D\n",
       "197    B\n",
       "198    B\n",
       "199    A\n",
       "Length: 350, dtype: object"
      ]
     },
     "execution_count": 12,
     "metadata": {},
     "output_type": "execute_result"
    }
   ],
   "source": [
    "s_all = pd.concat([s1, s2, s3])\n",
    "s_all"
   ]
  },
  {
   "cell_type": "markdown",
   "metadata": {},
   "source": [
    "### Then get the value counts of the combined series."
   ]
  },
  {
   "cell_type": "code",
   "execution_count": 13,
   "metadata": {},
   "outputs": [
    {
     "data": {
      "text/plain": [
       "B    143\n",
       "C     90\n",
       "A     74\n",
       "D     38\n",
       "F      5\n",
       "dtype: int64"
      ]
     },
     "execution_count": 13,
     "metadata": {},
     "output_type": "execute_result"
    }
   ],
   "source": [
    "s_all.value_counts()"
   ]
  },
  {
   "cell_type": "code",
   "execution_count": 14,
   "metadata": {},
   "outputs": [
    {
     "data": {
      "text/plain": [
       "A    0.211429\n",
       "B    0.408571\n",
       "C    0.257143\n",
       "D    0.108571\n",
       "F    0.014286\n",
       "dtype: float64"
      ]
     },
     "execution_count": 14,
     "metadata": {},
     "output_type": "execute_result"
    }
   ],
   "source": [
    "grades_breakout = s_all.value_counts(normalize=True)\n",
    "grades_breakout.sort_index(inplace=True)\n",
    "grades_breakout"
   ]
  }
 ],
 "metadata": {
  "kernelspec": {
   "display_name": "Python 3",
   "language": "python",
   "name": "python3"
  },
  "language_info": {
   "codemirror_mode": {
    "name": "ipython",
    "version": 3
   },
   "file_extension": ".py",
   "mimetype": "text/x-python",
   "name": "python",
   "nbconvert_exporter": "python",
   "pygments_lexer": "ipython3",
   "version": "3.8.2"
  }
 },
 "nbformat": 4,
 "nbformat_minor": 4
}
