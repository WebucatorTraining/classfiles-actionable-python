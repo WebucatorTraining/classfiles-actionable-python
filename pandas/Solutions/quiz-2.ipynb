{
 "cells": [
  {
   "cell_type": "code",
   "execution_count": 1,
   "metadata": {
    "collapsed": false,
    "jupyter": {
     "outputs_hidden": false
    }
   },
   "outputs": [],
   "source": [
    "%run ../Exercises/quiz_2.py"
   ]
  },
  {
   "cell_type": "markdown",
   "metadata": {},
   "source": [
    "---\n",
    "#### Run the following cell to load question 1."
   ]
  },
  {
   "cell_type": "code",
   "execution_count": 2,
   "metadata": {},
   "outputs": [
    {
     "data": {
      "application/vnd.jupyter.widget-view+json": {
       "model_id": "99f6875475894ee988868197ae56fadb",
       "version_major": 2,
       "version_minor": 0
      },
      "text/plain": [
       "VBox(children=(Output(layout=Layout(width='auto')), HBox(children=(Output(layout=Layout(width='auto')), Text(v…"
      ]
     },
     "metadata": {},
     "output_type": "display_data"
    }
   ],
   "source": [
    "q1"
   ]
  },
  {
   "cell_type": "markdown",
   "metadata": {
    "jupyter": {
     "outputs_hidden": false
    }
   },
   "source": [
    "##### Do your work in the following cell. Then answer the question."
   ]
  },
  {
   "cell_type": "code",
   "execution_count": 3,
   "metadata": {},
   "outputs": [
    {
     "data": {
      "text/plain": [
       "21943610"
      ]
     },
     "execution_count": 3,
     "metadata": {},
     "output_type": "execute_result"
    }
   ],
   "source": [
    "males = pops[(pops.SEX == 'M') & (pops.AGE >= 30) & (pops.AGE < 40)]\n",
    "males.POPESTIMATE2018.sum()"
   ]
  },
  {
   "cell_type": "markdown",
   "metadata": {},
   "source": [
    "---\n",
    "#### Run the following cell to load question 2."
   ]
  },
  {
   "cell_type": "code",
   "execution_count": 4,
   "metadata": {},
   "outputs": [
    {
     "data": {
      "application/vnd.jupyter.widget-view+json": {
       "model_id": "94ea6f3356854245a960f95aacfc6fa4",
       "version_major": 2,
       "version_minor": 0
      },
      "text/plain": [
       "VBox(children=(Output(layout=Layout(width='auto')), HBox(children=(Output(layout=Layout(width='auto')), Text(v…"
      ]
     },
     "metadata": {},
     "output_type": "display_data"
    }
   ],
   "source": [
    "q2"
   ]
  },
  {
   "cell_type": "markdown",
   "metadata": {
    "jupyter": {
     "outputs_hidden": false
    }
   },
   "source": [
    "##### Do your work in the following cell. Then answer the question."
   ]
  },
  {
   "cell_type": "code",
   "execution_count": 5,
   "metadata": {
    "collapsed": false,
    "jupyter": {
     "outputs_hidden": false
    }
   },
   "outputs": [
    {
     "data": {
      "text/plain": [
       "39.0"
      ]
     },
     "execution_count": 5,
     "metadata": {},
     "output_type": "execute_result"
    }
   ],
   "source": [
    "# Number of people alive in 2019.\n",
    "pops_both_sexes = pops[pops.SEX == 'T']\n",
    "total_pop_2019 = pops_both_sexes.POPESTIMATE2019.sum()\n",
    "\n",
    "# The total years lived by the people alive in 2019.\n",
    "age_by_pop_2019 = pops_both_sexes.POPESTIMATE2019 * pops_both_sexes.AGE\n",
    "total_years_lived_2019 = age_by_pop_2019.sum()\n",
    "\n",
    "avg_age = total_years_lived_2019 / total_pop_2019\n",
    "avg_age.round()"
   ]
  },
  {
   "cell_type": "markdown",
   "metadata": {},
   "source": [
    "---\n",
    "### Problem\n",
    "Write a check to make sure that there are no age groups in which the number of females plus the number of males does not add up to the total number of people that age in 2019."
   ]
  },
  {
   "cell_type": "code",
   "execution_count": 6,
   "metadata": {},
   "outputs": [
    {
     "data": {
      "text/html": [
       "<div>\n",
       "<style scoped>\n",
       "    .dataframe tbody tr th:only-of-type {\n",
       "        vertical-align: middle;\n",
       "    }\n",
       "\n",
       "    .dataframe tbody tr th {\n",
       "        vertical-align: top;\n",
       "    }\n",
       "\n",
       "    .dataframe thead th {\n",
       "        text-align: right;\n",
       "    }\n",
       "</style>\n",
       "<table border=\"1\" class=\"dataframe\">\n",
       "  <thead>\n",
       "    <tr style=\"text-align: right;\">\n",
       "      <th>SEX</th>\n",
       "      <th>F</th>\n",
       "      <th>M</th>\n",
       "      <th>T</th>\n",
       "    </tr>\n",
       "    <tr>\n",
       "      <th>AGE</th>\n",
       "      <th></th>\n",
       "      <th></th>\n",
       "      <th></th>\n",
       "    </tr>\n",
       "  </thead>\n",
       "  <tbody>\n",
       "  </tbody>\n",
       "</table>\n",
       "</div>"
      ],
      "text/plain": [
       "Empty DataFrame\n",
       "Columns: [F, M, T]\n",
       "Index: []"
      ]
     },
     "execution_count": 6,
     "metadata": {},
     "output_type": "execute_result"
    }
   ],
   "source": [
    "# First, pivot the data.\n",
    "pops2 = pops.pivot(index='AGE', columns = 'SEX', values='POPESTIMATE2019')\n",
    "\n",
    "pops2[pops2['F'] + pops2['M'] != pops2['T']]"
   ]
  },
  {
   "cell_type": "markdown",
   "metadata": {},
   "source": [
    "---\n",
    "### Help with Question 2\n",
    "Get the number of years lived by the people alive in 2019 and then divide that by the number of people alive in 2019.\n",
    "\n",
    "#### To get the number of people alive in 2019:\n",
    "1. First get a `DataFrame` that only contains the rows that contain data for both sexes (i.e., where `SEX == 'T'`).\n",
    "1. Get the sum of the `POPESTIMATE2019` column values.\n",
    "\n",
    "#### To get the total years lived by the people alive in 2019:\n",
    "1. Use element-wise multiplication to create a `Series` by multiplying `POPESTIMATE2019` by `AGE`.\n",
    "1. Get the sum of that series.\n",
    "\n",
    "Calculate the average from the two sums."
   ]
  }
 ],
 "metadata": {
  "kernelspec": {
   "display_name": "Python 3",
   "language": "python",
   "name": "python3"
  },
  "language_info": {
   "codemirror_mode": {
    "name": "ipython",
    "version": 3
   },
   "file_extension": ".py",
   "mimetype": "text/x-python",
   "name": "python",
   "nbconvert_exporter": "python",
   "pygments_lexer": "ipython3",
   "version": "3.8.2"
  }
 },
 "nbformat": 4,
 "nbformat_minor": 4
}
